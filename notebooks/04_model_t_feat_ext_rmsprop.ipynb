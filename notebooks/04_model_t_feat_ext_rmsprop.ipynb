{
 "cells": [
  {
   "metadata": {},
   "cell_type": "markdown",
   "source": [
    "---\n",
    "# Model T - Transfer Learning, Feature Extraction, RMSProp\n",
    "- **128 x 128** x 3 Image size.  \n",
    "- **64** Batch size.  \n",
    "- **VGG16** Convolutional Base.\n",
    "- **Feature Extraction**.  \n",
    "- **Root Mean Square Propagation (RMSProp)** optimizer.\n",
    "- **4 x 4 x 512** Tensor before flatten.  \n",
    "- **Classifier**: \n",
    "    - 512 Dense layer with **ReLU** activation function and **L1L2** regularization.\n",
    "    - Root Mean Square Propagation **(RMSProp) optimizer** with 0.001 Learning Rate.  \n",
    "    - **30 Epochs** to train the classifier.  \n",
    "- Build the **full model** and test it."
   ],
   "id": "8f90eceeed232e54"
  },
  {
   "metadata": {},
   "cell_type": "markdown",
   "source": [
    "---\n",
    "#### Imports and Setup"
   ],
   "id": "c6735bde07639ba2"
  },
  {
   "cell_type": "code",
   "id": "initial_id",
   "metadata": {
    "collapsed": true
   },
   "source": [
    "import os\n",
    "os.environ['TF_CPP_MIN_LOG_LEVEL'] = '3'\n",
    "import tensorflow as tf\n",
    "print(f'TensorFlow version: {tf.__version__}')\n",
    "tf.get_logger().setLevel('ERROR')\n",
    "tf.autograph.set_verbosity(3)\n",
    "import matplotlib.pyplot as plt\n",
    "import pickle\n",
    "import numpy as np\n",
    "from tensorflow.keras.utils import image_dataset_from_directory\n",
    "from tensorflow import keras\n",
    "from tensorflow.keras import callbacks, layers, optimizers, models\n",
    "from keras import regularizers\n",
    "print(f\"Keras Version: {keras.__version__}\")\n",
    "from sklearn.metrics import confusion_matrix, ConfusionMatrixDisplay ,accuracy_score, precision_score, recall_score, f1_score, roc_curve, auc\n",
    "from sklearn.preprocessing import label_binarize\n",
    "from itertools import cycle"
   ],
   "outputs": [],
   "execution_count": null
  },
  {
   "metadata": {},
   "cell_type": "markdown",
   "source": [
    "- We resize the images to **128 x 128** pixels.  \n",
    "- With this image size, we expect a **4 x 4 x 512** feature map after the convolutional base.  "
   ],
   "id": "1a9991ed0da93f8e"
  },
  {
   "metadata": {},
   "cell_type": "markdown",
   "source": [
    "---\n",
    "#### Group Datasets"
   ],
   "id": "3bd6072b1d12d0b4"
  },
  {
   "metadata": {},
   "cell_type": "code",
   "source": [
    "IMG_SIZE = 128\n",
    "\n",
    "train_dirs = [f'../data/train1_resized_{IMG_SIZE}', f'../data/train3_resized_{IMG_SIZE}', f'../data/train4_resized_{IMG_SIZE}', f'../data/train5_resized_{IMG_SIZE}']\n",
    "validation_dir = f'../data/train2_resized_{IMG_SIZE}'\n",
    "test_dir = f'../data/test_resized_{IMG_SIZE}'"
   ],
   "id": "f972b55051087b5",
   "outputs": [],
   "execution_count": null
  },
  {
   "metadata": {},
   "cell_type": "markdown",
   "source": [
    "- ((2221985 + 2221986) % 5) + 1 = 2  \n",
    "- **Validation set: train2**.  "
   ],
   "id": "5af858988eb26fa7"
  },
  {
   "metadata": {},
   "cell_type": "markdown",
   "source": [
    "---\n",
    "#### Create Datasets"
   ],
   "id": "dfc2bfc04e619b7d"
  },
  {
   "metadata": {},
   "cell_type": "code",
   "source": [
    "BATCH_SIZE = 64\n",
    "NUM_CLASSES = 10\n",
    "\n",
    "train_datasets = [image_dataset_from_directory(directory, image_size=(IMG_SIZE, IMG_SIZE), batch_size=BATCH_SIZE) for directory in train_dirs]\n",
    "\n",
    "train_dataset = train_datasets[0]\n",
    "for dataset in train_datasets[1:]:\n",
    "    train_dataset = train_dataset.concatenate(dataset)\n",
    "\n",
    "train_dataset = train_dataset.shuffle(buffer_size=1000).prefetch(buffer_size=tf.data.AUTOTUNE)\n",
    "validation_dataset = image_dataset_from_directory(validation_dir, image_size=(IMG_SIZE, IMG_SIZE), batch_size=BATCH_SIZE).prefetch(buffer_size=tf.data.AUTOTUNE)\n",
    "test_dataset = image_dataset_from_directory(test_dir, image_size=(IMG_SIZE, IMG_SIZE), batch_size=BATCH_SIZE).prefetch(buffer_size=tf.data.AUTOTUNE)\n",
    "\n",
    "class_names = train_datasets[0].class_names\n",
    "\n",
    "for data_batch, labels_batch in train_dataset.take(1):\n",
    "    print('data batch shape:', data_batch.shape)\n",
    "    print('labels batch shape:', labels_batch.shape)"
   ],
   "id": "d699b2929af3e6b1",
   "outputs": [],
   "execution_count": null
  },
  {
   "metadata": {},
   "cell_type": "markdown",
   "source": [
    "- We define the batch size of 64 and create an array with the label's names.  \n",
    "- We create the train dataset by concatenating them, we **shuffle** the samples before each epoch and **prefetch** them to memory.  \n",
    "- We do the same for the validation and test dataset except shuffling which is unnecessary."
   ],
   "id": "d7988a1b1bf91e80"
  },
  {
   "metadata": {},
   "cell_type": "markdown",
   "source": [
    "---\n",
    "#### Loading the VGG16 Model"
   ],
   "id": "d1a35d3cdfbf44a5"
  },
  {
   "metadata": {},
   "cell_type": "code",
   "source": [
    "from tensorflow.keras.applications.vgg16 import VGG16\n",
    "conv_base = VGG16(weights='imagenet', include_top=False, input_shape=(IMG_SIZE, IMG_SIZE, 3))\n",
    "conv_base.trainable = False\n",
    "conv_base.summary()"
   ],
   "id": "7cea8386294502c7",
   "outputs": [],
   "execution_count": null
  },
  {
   "metadata": {},
   "cell_type": "markdown",
   "source": "- We load the VGG16 model with the imagenet weights, without the top layer and with the input shape of 128 x 128 pixels and 3 channels.",
   "id": "6f3271d7ffe978de"
  },
  {
   "metadata": {},
   "cell_type": "markdown",
   "source": [
    "---\n",
    "#### Feature Extraction"
   ],
   "id": "ee9c27df5d07cb6c"
  },
  {
   "metadata": {},
   "cell_type": "code",
   "source": [
    "def get_features_and_labels(dataset):\n",
    "    all_features = []\n",
    "    all_labels = []\n",
    "    for images, labels in dataset:\n",
    "        preprocessed_images = keras.applications.vgg16.preprocess_input(images)\n",
    "        features = conv_base.predict(preprocessed_images)\n",
    "        all_features.append(features)\n",
    "        all_labels.append(labels)\n",
    "    return np.concatenate(all_features), np.concatenate(all_labels)\n",
    "\n",
    "train_features, train_labels = get_features_and_labels(train_dataset)\n",
    "val_features, val_labels = get_features_and_labels(validation_dataset)"
   ],
   "id": "47dfb1365748d332",
   "outputs": [],
   "execution_count": null
  },
  {
   "metadata": {},
   "cell_type": "markdown",
   "source": [
    "- We extract the features from the convolutional base of the VGG16 model for the train and validation dataset.\n",
    "- We don't need to extract the features from the test dataset because we will use the full model to predict it."
   ],
   "id": "926ddd37df4e2b55"
  },
  {
   "metadata": {},
   "cell_type": "markdown",
   "source": [
    "---\n",
    "### Saving the features and labels"
   ],
   "id": "b4b708d40c757eae"
  },
  {
   "metadata": {},
   "cell_type": "code",
   "source": [
    "np.save('../features/04_model_t_feat_ext_rmsprop_train_features.npy', train_features)\n",
    "np.save('../features/04_model_t_feat_ext_rmsprop_train_labels.npy', train_labels)\n",
    "np.save('../features/04_model_t_feat_ext_rmsprop_val_features.npy', val_features)\n",
    "np.save('../features/04_model_t_feat_ext_rmsprop_val_labels.npy', val_labels)"
   ],
   "id": "8cddbab9b1f6814d",
   "outputs": [],
   "execution_count": null
  },
  {
   "metadata": {},
   "cell_type": "markdown",
   "source": [
    "---\n",
    "### Loading the features and labels"
   ],
   "id": "4de28ec4aa964a60"
  },
  {
   "metadata": {},
   "cell_type": "code",
   "source": [
    "train_features = np.load('../features/04_model_t_feat_ext_rmsprop_train_features.npy')\n",
    "train_labels = np.load('../features/04_model_t_feat_ext_rmsprop_train_labels.npy')\n",
    "val_features = np.load('../features/04_model_t_feat_ext_rmsprop_val_features.npy')\n",
    "val_labels = np.load('../features/04_model_t_feat_ext_rmsprop_val_labels.npy')"
   ],
   "id": "6df1aff1d8c36076",
   "outputs": [],
   "execution_count": null
  },
  {
   "metadata": {},
   "cell_type": "markdown",
   "source": [
    "---\n",
    "#### Classifier Arquitecture"
   ],
   "id": "e1295d3f549e2bcc"
  },
  {
   "metadata": {},
   "cell_type": "code",
   "source": [
    "inputs = keras.Input(shape=(4, 4, 512))\n",
    "x = layers.Flatten()(inputs)\n",
    "x = layers.Dropout(0.5)(x)\n",
    "x = layers.Dense(512, activation=\"relu\", kernel_regularizer=regularizers.L2(1e-4))(x)\n",
    "x = layers.Dropout(0.5)(x)\n",
    "outputs = layers.Dense(NUM_CLASSES, activation=\"softmax\", kernel_regularizer=regularizers.L2(1e-4))(x)\n",
    "classifier = models.Model(inputs=inputs, outputs=outputs)\n",
    "classifier.summary()"
   ],
   "id": "83b92ce40cddb3b1",
   "outputs": [],
   "execution_count": null
  },
  {
   "metadata": {},
   "cell_type": "markdown",
   "source": [
    "- Input size of 4 x 4 x 512.  \n",
    "- Flatten the tensor to a 8192 x 1 tensor. \n",
    "- A 512 and 10 dense output layer, one for each category. \n",
    "- Dropout of 0.5 before the dense layers.\n",
    "- L1 regularization 0.0001 and L2 regularization 0.001 on the dense layers.    \n",
    "- ReLU activation function on the dense layer.  \n",
    "- Softmax activation function on the output layer for multiclass classification.  "
   ],
   "id": "759006a6d6fc081a"
  },
  {
   "metadata": {},
   "cell_type": "markdown",
   "source": [
    "---\n",
    "#### Model Compilation"
   ],
   "id": "b91ca83987f82a9c"
  },
  {
   "metadata": {},
   "cell_type": "code",
   "source": [
    "initial_learning_rate = 0.001\n",
    "optimizer = optimizers.RMSprop(learning_rate=initial_learning_rate)\n",
    "loss_function = keras.losses.SparseCategoricalCrossentropy()\n",
    "\n",
    "lr_scheduler = callbacks.ReduceLROnPlateau(monitor='val_loss', factor=0.1, patience=3, verbose=1)\n",
    "early_stopping = callbacks.EarlyStopping(monitor='val_loss', patience=6, restore_best_weights=True, verbose=1)\n",
    "save_best_model = callbacks.ModelCheckpoint(filepath='../models/04_model_t_feat_ext_rmsprop_classifier.keras', save_best_only=True, monitor='val_loss', verbose=1)\n",
    "\n",
    "callbacks = [lr_scheduler, early_stopping, save_best_model]\n",
    "\n",
    "classifier.compile(optimizer=optimizer,\n",
    "              loss=loss_function,\n",
    "              metrics=['accuracy'])"
   ],
   "id": "6a604147d46665f1",
   "outputs": [],
   "execution_count": null
  },
  {
   "metadata": {},
   "cell_type": "markdown",
   "source": [
    "- **RMSProp** as the optimizer for this model with an initial learning rate of 0.001.  \n",
    "- **Sparse categorical cross entropy** as the loss function, because our labels are not one hot encoded.  \n",
    "- **Learning rate scheduler** to lower the learning rate by a factor of 0.1 on validation loss plateau (patience of 2).  \n",
    "- **Early train stopping** based on validation loss improvement (stops when validation loss doesn't improve for 4 straight epochs (patience of 4)).  \n",
    "- **Checkpoints** to save the best model between each epoch based on validation loss."
   ],
   "id": "3d29c779bb675e70"
  },
  {
   "metadata": {},
   "cell_type": "markdown",
   "source": [
    "---\n",
    "#### Model Training\n",
    "- We train the classifier with the extracted features during 30 epochs."
   ],
   "id": "1561b6b62a6a19e8"
  },
  {
   "metadata": {},
   "cell_type": "code",
   "source": [
    "history = classifier.fit(train_features,\n",
    "                    train_labels,\n",
    "                    epochs=30,\n",
    "                    validation_data=(val_features, val_labels),\n",
    "                    callbacks=callbacks)"
   ],
   "id": "7c7803fd68bb2466",
   "outputs": [],
   "execution_count": null
  },
  {
   "metadata": {},
   "cell_type": "markdown",
   "source": [
    "---\n",
    "#### Save Model History"
   ],
   "id": "c1414fc4bf4495f3"
  },
  {
   "metadata": {},
   "cell_type": "code",
   "source": [
    "with open(\"../history/04_model_t_feat_ext_rmsprop_classifier.pkl\", \"wb\") as file:\n",
    "    pickle.dump(history.history, file)"
   ],
   "id": "f5ee8f1b7a93d59b",
   "outputs": [],
   "execution_count": null
  },
  {
   "metadata": {},
   "cell_type": "markdown",
   "source": [
    "---\n",
    "#### Classifier Evaluation"
   ],
   "id": "75ab7a00cecd12d0"
  },
  {
   "metadata": {},
   "cell_type": "code",
   "source": [
    "val_loss, val_acc = classifier.evaluate(val_features, val_labels)\n",
    "print(f'Classifier Validation Loss: {val_loss:.2f}')\n",
    "print(f'Classifier Validation Accuracy: {val_acc:.2%}')"
   ],
   "id": "119ca4b48e11020d",
   "outputs": [],
   "execution_count": null
  },
  {
   "metadata": {},
   "cell_type": "markdown",
   "source": [
    "---\n",
    "#### Model Training Visualization"
   ],
   "id": "3e06235a110145b5"
  },
  {
   "metadata": {},
   "cell_type": "code",
   "source": [
    "acc = history.history['accuracy']\n",
    "val_acc = history.history['val_accuracy']\n",
    "loss = history.history['loss']\n",
    "val_loss = history.history['val_loss']\n",
    "epochs = range(1, len(acc) + 1)\n",
    "\n",
    "plt.figure(figsize=(12, 6))\n",
    "plt.subplot(1, 2, 1)\n",
    "plt.plot(epochs, acc, 'bo', label='Training acc')\n",
    "plt.plot(epochs, val_acc, 'b', label='Validation acc')\n",
    "plt.title('Training and validation accuracy')\n",
    "plt.legend()\n",
    "\n",
    "plt.subplot(1, 2, 2)\n",
    "plt.plot(epochs, loss, 'bo', label='Training loss')\n",
    "plt.plot(epochs, val_loss, 'b', label='Validation loss')\n",
    "plt.title('Training and validation loss')\n",
    "plt.legend()\n",
    "\n",
    "plt.tight_layout()\n",
    "plt.show()"
   ],
   "id": "b82798d66c269136",
   "outputs": [],
   "execution_count": null
  },
  {
   "metadata": {},
   "cell_type": "markdown",
   "source": [
    "- Analyzing the training and validation accuracy and loss over the epochs:\n",
    "    - We see that the model begins slightly overfitting after the **15th** epoch. The validation accuracy stops improving significantly while the training accuracy keeps improving.  \n",
    "    - The validation loss stops improving significantly after the **15th** epoch while the training loss keeps improving. \n",
    "    - The best model, based on validation loss, is saved on the **20th** epoch.   "
   ],
   "id": "3b28b2e5a426f333"
  },
  {
   "metadata": {},
   "cell_type": "markdown",
   "source": [
    "---\n",
    "#### Building the full model (VGG16 + Classifier)"
   ],
   "id": "785d605186464885"
  },
  {
   "metadata": {},
   "cell_type": "code",
   "source": [
    "inputs = keras.Input(shape=(IMG_SIZE, IMG_SIZE, 3))\n",
    "x = keras.applications.vgg16.preprocess_input(inputs)\n",
    "x = conv_base(x)\n",
    "outputs = classifier(x)\n",
    "model = keras.Model(inputs=inputs, outputs=outputs)\n",
    "\n",
    "model.compile(\n",
    "    loss=loss_function,\n",
    "    optimizer=optimizer,\n",
    "    metrics=[\"accuracy\"])\n",
    "\n",
    "model.summary()\n",
    "model.save('../models/04_model_t_feat_ext_rmsprop_full_model.keras')"
   ],
   "id": "1118d33fd14f9079",
   "outputs": [],
   "execution_count": null
  },
  {
   "metadata": {},
   "cell_type": "markdown",
   "source": "- We join the VGG16 convolutional base with our classifier trained with the extracted features, compile it, and save it.",
   "id": "76348bf6eb672a5c"
  },
  {
   "metadata": {},
   "cell_type": "markdown",
   "source": [
    "---\n",
    "#### Model Testing"
   ],
   "id": "d2409d0121f3719"
  },
  {
   "metadata": {},
   "cell_type": "code",
   "source": [
    "test_labels = []\n",
    "test_predictions = []\n",
    "test_probabilities = []\n",
    "\n",
    "for images, labels in test_dataset:\n",
    "    test_labels.extend(labels.numpy())\n",
    "    predictions = model.predict(images)\n",
    "    test_predictions.extend(np.argmax(predictions, axis=-1))\n",
    "    test_probabilities.extend(predictions)\n",
    "\n",
    "test_labels = np.array(test_labels)\n",
    "test_predictions = np.array(test_predictions)\n",
    "test_probabilities = np.array(test_probabilities)"
   ],
   "id": "85b3f7b2aa7331fb",
   "outputs": [],
   "execution_count": null
  },
  {
   "metadata": {},
   "cell_type": "markdown",
   "source": [
    "---\n",
    "#### Confusion Matrix"
   ],
   "id": "fca30daa6d2c5258"
  },
  {
   "metadata": {},
   "cell_type": "code",
   "source": [
    "cm = confusion_matrix(test_labels, test_predictions)\n",
    "disp = ConfusionMatrixDisplay(confusion_matrix=cm, display_labels=class_names)\n",
    "disp.plot(cmap=plt.cm.Blues, xticks_rotation=90)\n",
    "plt.show()"
   ],
   "id": "4be6a931c81836a8",
   "outputs": [],
   "execution_count": null
  },
  {
   "metadata": {},
   "cell_type": "markdown",
   "source": [
    "- Looking at the confusion matrix, we see that the model has some trouble distinguishing between some categories.  \n",
    "- The model has a hard time distinguishing between the categories 003_cat and 005_dog.  \n",
    "- The model also has a hard time distinguishing between some other categories but the error is not as significant.  \n",
    "- The model has an acceptable performance on the categories 000_airplane, 001_automobile, 004_deer, 006_frog, 007_horse, 008_ship and 009_truck."
   ],
   "id": "8a3e816c5c8fe13a"
  },
  {
   "metadata": {},
   "cell_type": "markdown",
   "source": [
    "---\n",
    "#### ROC Curve Analysis"
   ],
   "id": "e68c9fb0e696ac86"
  },
  {
   "metadata": {},
   "cell_type": "code",
   "source": [
    "test_labels_bin = label_binarize(test_labels, classes=range(NUM_CLASSES))\n",
    "\n",
    "false_positive_rate = dict()\n",
    "true_positive_rate = dict()\n",
    "roc_auc = dict()\n",
    "\n",
    "for i in range(NUM_CLASSES):\n",
    "    false_positive_rate[i], true_positive_rate[i], _ = roc_curve(test_labels_bin[:, i], test_probabilities[:, i])\n",
    "    roc_auc[i] = auc(false_positive_rate[i], true_positive_rate[i])\n",
    "\n",
    "plt.figure(figsize=(10, 8))\n",
    "colors = cycle(['aqua', 'darkorange', 'cornflowerblue', 'blue', 'green', 'red', 'purple', 'brown', 'pink', 'grey'])\n",
    "for i, color in zip(range(NUM_CLASSES), colors):\n",
    "    plt.plot(false_positive_rate[i], true_positive_rate[i], color=color, lw=2, label=f'Class {class_names[i]} (AUC = {roc_auc[i]:.2f})')\n",
    "\n",
    "plt.plot([0, 1], [0, 1], 'k--', lw=2)\n",
    "plt.xlim([0.0, 1.0])\n",
    "plt.ylim([0.0, 1.05])\n",
    "plt.xlabel('False Positive Rate')\n",
    "plt.ylabel('True Positive Rate')\n",
    "plt.title('Receiver Operating Characteristic (ROC) Curve')\n",
    "plt.legend(loc=\"lower right\")\n",
    "plt.show()"
   ],
   "id": "b8f0a28c2c459ae9",
   "outputs": [],
   "execution_count": null
  },
  {
   "metadata": {},
   "cell_type": "markdown",
   "source": [
    "- We see that the model has a good performance on the ROC curve for most categories.  \n",
    "- The categories 003_cat, 003_bird, 005_dog and 004_deer have the worst AUC (Area Under Curve) performance.\n",
    "- A perfect AUC of 1.0 would mean that the model classifies all true positives and true negatives correctly."
   ],
   "id": "713c306fcd31d921"
  },
  {
   "metadata": {},
   "cell_type": "markdown",
   "source": [
    "---\n",
    "#### Performance Metrics\n",
    "- **Accuracy** is the proportion of correctly predicted instances out of the total instances.  \n",
    "- **Precision** is the ratio of true positive predictions to the total predicted positives. Macro precision calculates this for each class independently and then averages them.  \n",
    "- **Weighted precision** calculates the precision for each class, then averages them, weighted by the number of true instances for each class.  \n",
    "- **Recall** is the ratio of true positive predictions to the total actual positives. Macro recall calculates this for each class independently and then averages them.  \n",
    "- **Weighted recall** calculates the recall for each class, then averages them, weighted by the number of true instances for each class.  \n",
    "- The **F1-score** is the harmonic mean of precision and recall. Macro F1-score calculates this for each class independently and then averages them.  \n",
    "- **Weighted F1-score** calculates the F1-score for each class, then averages them, weighted by the number of true instances for each class.  "
   ],
   "id": "e8c8ee6e74938bdc"
  },
  {
   "metadata": {},
   "cell_type": "code",
   "source": [
    "acc = accuracy_score(y_true =  test_labels, y_pred = test_predictions)\n",
    "print(f'Accuracy : {np.round(acc*100,2)}%')\n",
    "precision = precision_score(y_true =  test_labels, y_pred = test_predictions, average='macro')\n",
    "print(f'Precision - Macro: {np.round(precision*100,2)}%')\n",
    "recall = recall_score(y_true =  test_labels, y_pred = test_predictions, average='macro')\n",
    "print(f'Recall - Macro: {np.round(recall*100,2)}%')\n",
    "f1 = f1_score(y_true =  test_labels, y_pred = test_predictions, average='macro')\n",
    "print(f'F1-score - Macro: {np.round(f1*100,2)}%')\n",
    "precision = precision_score(y_true =  test_labels, y_pred = test_predictions, average='weighted')\n",
    "print(f'Precision - Weighted: {np.round(precision*100,2)}%')\n",
    "recall = recall_score(y_true =  test_labels, y_pred = test_predictions, average='weighted')\n",
    "print(f'Recall - Weighted: {np.round(recall*100,2)}%')\n",
    "f1 = f1_score(y_true =  test_labels, y_pred = test_predictions, average='weighted')\n",
    "print(f'F1-score - Weighted: {np.round(f1*100,2)}%')"
   ],
   "id": "479b290df6a7c03b",
   "outputs": [],
   "execution_count": null
  },
  {
   "metadata": {},
   "cell_type": "markdown",
   "source": "- **Since the dataset is balanced, the **MACRO** average is a good metric to evaluate the model.**",
   "id": "a153655cd9046d4d"
  },
  {
   "metadata": {},
   "cell_type": "markdown",
   "source": [
    "# Conclusion\n",
    "- We resized our images to be the 128 x 128.\n",
    "- We extracted feature maps from our datasets using the convolutional base of the VGG16.\n",
    "- We have trained a classifier with those extracted features.  \n",
    "- We experimented with various classifier architectures, and we settled for this one, keeping input size to 128 x 128 and our classifier with a 512 dense layer.  \n",
    "     - Different learning rates were tested; we settled for the Reduce Learning Rate on Plateau callback with a starting value of 0.001.\n",
    "    - Various batch sizes were explored; this size was optimal for this architecture.  \n",
    "    - Multiple optimizers were evaluated; we settled for RMSProp.\n",
    "    - Several regularization values were tried; these values worked best.\n",
    "    - Different dropout rates were assessed; this rate provided the best results.\n",
    "    - Various epoch counts were tested; 30 epochs were optimal.\n",
    "    - We used L1 and L2 regularization on the classifier.\n",
    "    - Dropout was applied to the input layer and the dense layer.\n",
    "- The model showed some difficulty distinguishing between certain categories, particularly cats and dogs.\n",
    "- Overfitting was observed after **15 epochs**, but the best model was saved at the **20th epoch**.\n",
    "- We evaluated the model using a confusion matrix to analyze its performance on each category.\n",
    "- We evaluated the model using ROC curves for a deeper performance analysis.\n",
    "- **The model achieved an accuracy of 81.83% on the test set**.\n",
    "- Performance on the test set was good, with:\n",
    "    - Macro F1-score: 89.29%\n",
    "    - Weighted F1-score: 89.29%\n",
    "    - Macro precision: 89.32%\n",
    "    - Weighted precision: 89.32%\n",
    "    - Macro recall: 89.29%\n",
    "    - Weighted recall: 89.29%\n",
    "\n",
    "### Future Work\n",
    "- In the next phase, we will:\n",
    "    - Implement and test transfer learning with the VGG16 convolutional base and our classifier along with fine-tuning by later unfreezing some of the VGG16 layers to further improve model generalization.\n",
    "    - Experiment with data augmentation to improve model generalization.\n",
    "    - Explore additional regularization methods to address overfitting."
   ],
   "id": "9d23124cf3831d1c"
  }
 ],
 "metadata": {
  "kernelspec": {
   "display_name": "Python 3",
   "language": "python",
   "name": "python3"
  },
  "language_info": {
   "codemirror_mode": {
    "name": "ipython",
    "version": 2
   },
   "file_extension": ".py",
   "mimetype": "text/x-python",
   "name": "python",
   "nbconvert_exporter": "python",
   "pygments_lexer": "ipython2",
   "version": "2.7.6"
  }
 },
 "nbformat": 4,
 "nbformat_minor": 5
}
