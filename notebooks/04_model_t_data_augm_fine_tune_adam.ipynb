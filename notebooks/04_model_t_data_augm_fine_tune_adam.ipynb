{
 "cells": [
  {
   "metadata": {},
   "cell_type": "markdown",
   "source": [
    "---\n",
    "# Model T - Transfer Learning, Data Augmentation, Fine-Tuning, Adam\n",
    "- 224 x 224 x 3 Image size.  \n",
    "- **256 Batch size**.  \n",
    "- Horizontal Flip, Zoom, Rotation, Contrast and Brightness **Data augmentation**.  \n",
    "- Adaptive Moment Estimation **(Adam) optimizer**.  \n",
    "- **0.001 Initial Learning rate**.   \n",
    "- 7 x 7 x 512 Tensor before flatten.  \n",
    "- **40 Epochs** to train the classifier. \n",
    "- **40 Epochs** to train the model. "
   ],
   "id": "8f90eceeed232e54"
  },
  {
   "metadata": {},
   "cell_type": "markdown",
   "source": [
    "---\n",
    "#### Imports and Setup"
   ],
   "id": "c6735bde07639ba2"
  },
  {
   "cell_type": "code",
   "id": "initial_id",
   "metadata": {
    "collapsed": true
   },
   "source": [
    "import os\n",
    "os.environ['TF_CPP_MIN_LOG_LEVEL'] = '3'\n",
    "import tensorflow as tf\n",
    "print(f'TensorFlow version: {tf.__version__}')\n",
    "tf.get_logger().setLevel('ERROR')\n",
    "tf.autograph.set_verbosity(3)\n",
    "import matplotlib.pyplot as plt\n",
    "import pickle\n",
    "import numpy as np\n",
    "from tensorflow.keras.utils import image_dataset_from_directory\n",
    "from tensorflow import keras\n",
    "from tensorflow.keras import callbacks, layers, optimizers, models\n",
    "from keras import regularizers\n",
    "from sklearn.metrics import confusion_matrix, ConfusionMatrixDisplay ,accuracy_score, precision_score, recall_score, f1_score, roc_curve, auc\n",
    "from sklearn.preprocessing import label_binarize\n",
    "from itertools import cycle\n",
    "from PIL import Image"
   ],
   "outputs": [],
   "execution_count": null
  },
  {
   "metadata": {},
   "cell_type": "markdown",
   "source": [
    "---\n",
    "#### Group Datasets"
   ],
   "id": "3bd6072b1d12d0b4"
  },
  {
   "metadata": {},
   "cell_type": "code",
   "source": [
    "train_dirs = ['../data/train1_resized_224', '../data/train3_resized_224', '../data/train4_resized_224', '../data/train5_resized_224']\n",
    "validation_dir = '../data/train2_resized_224'\n",
    "test_dir = '../data/test_resized_224'"
   ],
   "id": "f972b55051087b5",
   "outputs": [],
   "execution_count": null
  },
  {
   "metadata": {},
   "cell_type": "markdown",
   "source": [
    "- ((2221985 + 2221986) % 5) + 1 = 2  \n",
    "- **Validation set: train2**.  "
   ],
   "id": "5af858988eb26fa7"
  },
  {
   "metadata": {},
   "cell_type": "markdown",
   "source": [
    "---\n",
    "####  Count Images in Categories"
   ],
   "id": "ee938881c0c3de3e"
  },
  {
   "metadata": {},
   "cell_type": "code",
   "source": [
    "def count_images_in_categories(directory):\n",
    "    categories = os.listdir(directory)\n",
    "    category_counts = {}\n",
    "    for category in categories:\n",
    "        category_counts[category] = len(os.listdir(os.path.join(directory, category)))\n",
    "    return category_counts\n",
    "\n",
    "train_counts_each_dir = [count_images_in_categories(train_dir) for train_dir in train_dirs]\n",
    "validation_counts = count_images_in_categories(validation_dir)\n",
    "test_counts = count_images_in_categories(test_dir)\n",
    "train_counts = {category: sum([count.get(category, 0) for count in train_counts_each_dir]) for category in train_counts_each_dir[0]}\n",
    "\n",
    "def plot_statistics(dataset_name, category_counts, color):\n",
    "    categories = list(category_counts.keys())\n",
    "    counts = list(category_counts.values())\n",
    "    num_categories = len(categories)\n",
    "    plt.figure(figsize=(8, 6))\n",
    "    bars = plt.barh(range(num_categories), counts, color=color, alpha=1)\n",
    "\n",
    "    for bar, count in zip(bars, counts):\n",
    "        plt.text(bar.get_width() - 5, bar.get_y() + bar.get_height()/2, str(count), va='center', ha='right', color='white', fontweight='bold')\n",
    "\n",
    "    plt.ylabel('Categories')\n",
    "    plt.xlabel('Number of Images')\n",
    "    plt.yticks(range(num_categories), categories)\n",
    "    plt.title(f'Distribution of Images in {dataset_name} Dataset')\n",
    "    plt.tight_layout()\n",
    "    plt.show()\n",
    "\n",
    "plot_statistics('Training Set', train_counts, 'blue')\n",
    "plot_statistics('Validation Set', validation_counts, 'purple')\n",
    "plot_statistics('Test Set', test_counts, 'red')"
   ],
   "id": "aa6531a821363870",
   "outputs": [],
   "execution_count": null
  },
  {
   "metadata": {},
   "cell_type": "markdown",
   "source": [
    "- We count the images of each category in each folder and plot the distribution.  \n",
    "- We see that there are **minor deviations** the number of samples of each category in the train dataset and a bit **more in the validation dataset**.  "
   ],
   "id": "e8f9f7592a567690"
  },
  {
   "metadata": {},
   "cell_type": "markdown",
   "source": [
    "---\n",
    "#### Create Datasets"
   ],
   "id": "dfc2bfc04e619b7d"
  },
  {
   "metadata": {},
   "cell_type": "code",
   "source": [
    "IMG_SIZE = 224\n",
    "BATCH_SIZE = 256\n",
    "NUM_CLASSES = len(train_counts)\n",
    "\n",
    "train_datasets = [image_dataset_from_directory(directory, image_size=(IMG_SIZE, IMG_SIZE), batch_size=BATCH_SIZE) for directory in train_dirs]\n",
    "\n",
    "train_dataset = train_datasets[0]\n",
    "for dataset in train_datasets[1:]:\n",
    "    train_dataset = train_dataset.concatenate(dataset)\n",
    "\n",
    "train_dataset = train_dataset.shuffle(buffer_size=1000).prefetch(buffer_size=tf.data.AUTOTUNE)\n",
    "validation_dataset = image_dataset_from_directory(validation_dir, image_size=(IMG_SIZE, IMG_SIZE), batch_size=BATCH_SIZE).prefetch(buffer_size=tf.data.AUTOTUNE)\n",
    "test_dataset = image_dataset_from_directory(test_dir, image_size=(IMG_SIZE, IMG_SIZE), batch_size=BATCH_SIZE).prefetch(buffer_size=tf.data.AUTOTUNE)\n",
    "\n",
    "class_names = train_datasets[0].class_names"
   ],
   "id": "d699b2929af3e6b1",
   "outputs": [],
   "execution_count": null
  },
  {
   "metadata": {},
   "cell_type": "markdown",
   "source": [
    "- We define the image size of 224 x 224 x 3 and batch size of 256 and create an array with the label's names.  \n",
    "- We create the train dataset by concatenating them, we **shuffle** the samples before each epoch and **prefetch** them to memory.  \n",
    "- We do the same for the validation and test dataset except shuffling which is unnecessary."
   ],
   "id": "d7988a1b1bf91e80"
  },
  {
   "metadata": {},
   "cell_type": "markdown",
   "source": [
    "---\n",
    "#### Dataset Analysis"
   ],
   "id": "e6943c727cdce170"
  },
  {
   "metadata": {},
   "cell_type": "code",
   "source": [
    "for data_batch, labels_batch in train_dataset.take(1):\n",
    "    print('data batch shape:', data_batch.shape)\n",
    "    print('labels batch shape:', labels_batch.shape)"
   ],
   "id": "f329098415b82fe3",
   "outputs": [],
   "execution_count": null
  },
  {
   "metadata": {},
   "cell_type": "markdown",
   "source": [
    "- We have batches of 256 images, 224 by 224 pixels with 3 channels (RGB).  \n",
    "- We also have batches of 256 labels, one for each image. "
   ],
   "id": "3afa51ab590c7c75"
  },
  {
   "metadata": {},
   "cell_type": "markdown",
   "source": [
    "---\n",
    "#### Data Augmentation"
   ],
   "id": "2962ea5d34b97ff"
  },
  {
   "metadata": {},
   "cell_type": "code",
   "source": [
    "data_augmentation = keras.Sequential(\n",
    "    [\n",
    "        # We tried more techniques but the model didn't perform well\n",
    "        keras.layers.RandomFlip(\"horizontal\"),\n",
    "        # keras.layers.RandomTranslation(0.1, 0.1),\n",
    "        keras.layers.RandomContrast(0.1),\n",
    "        keras.layers.RandomBrightness(0.1),\n",
    "        keras.layers.RandomRotation(0.05),\n",
    "        keras.layers.RandomZoom(0.1),\n",
    "    ]\n",
    ")"
   ],
   "id": "78ddf0eb7f6e200b",
   "outputs": [],
   "execution_count": null
  },
  {
   "metadata": {},
   "cell_type": "markdown",
   "source": "> We define a data augmentation pipeline with horizontal flip, translation, contrast, brightness, rotation and zoom.",
   "id": "4222cee4f488f11c"
  },
  {
   "metadata": {},
   "cell_type": "markdown",
   "source": [
    "---\n",
    "#### Augmented Dataset Visualization"
   ],
   "id": "2822a632e4b1d743"
  },
  {
   "metadata": {},
   "cell_type": "code",
   "source": [
    "for images, labels in train_dataset.take(1):\n",
    "    plt.figure(figsize=(128, 128))\n",
    "    for i in range(len(images)):\n",
    "        augmented_images = data_augmentation(images)\n",
    "        ax = plt.subplot(16, 16, i + 1)\n",
    "        plt.imshow(augmented_images[i].numpy().astype(\"uint8\"))\n",
    "        plt.title(class_names[labels[i].numpy()])\n",
    "        plt.axis(\"off\")\n",
    "        plt.tight_layout()\n",
    "    plt.show()"
   ],
   "id": "5a110bdf58d174b4",
   "outputs": [],
   "execution_count": null
  },
  {
   "metadata": {},
   "cell_type": "markdown",
   "source": [
    "- We print a random batch of images from the train dataset along with their respective labels.  \n",
    "- We see that the images are of different categories and are now of **224 x 224** pixels despite **not having gained quality**."
   ],
   "id": "9a98995fa9fc67d"
  },
  {
   "metadata": {},
   "cell_type": "markdown",
   "source": [
    "---\n",
    "#### Loading the VGG16 Model"
   ],
   "id": "d1a35d3cdfbf44a5"
  },
  {
   "metadata": {},
   "cell_type": "code",
   "source": [
    "from keras.applications.vgg16 import VGG16\n",
    "conv_base = VGG16(weights='imagenet', include_top=False)\n",
    "conv_base.trainable = False"
   ],
   "id": "7cea8386294502c7",
   "outputs": [],
   "execution_count": null
  },
  {
   "metadata": {},
   "cell_type": "markdown",
   "source": [
    "> We load the VGG16 model with the imagenet weights and without the top layer.  \n",
    "> Setting trainable to False empties the list of trainable weights of the layer or model.  "
   ],
   "id": "6f3271d7ffe978de"
  },
  {
   "metadata": {},
   "cell_type": "markdown",
   "source": [
    "---\n",
    "#### Dense Network Arquitecture"
   ],
   "id": "e1295d3f549e2bcc"
  },
  {
   "metadata": {},
   "cell_type": "code",
   "source": [
    "inputs = keras.Input(shape=(IMG_SIZE, IMG_SIZE, 3))\n",
    "x = data_augmentation(inputs)\n",
    "x = keras.applications.vgg16.preprocess_input(x)\n",
    "x = conv_base(x)\n",
    "x = layers.Flatten()(x)\n",
    "x = layers.Dropout(0.5)(x)\n",
    "x = layers.Dense(256, activation=\"relu\", kernel_regularizer=regularizers.L1L2(0.0001, 0.001))(x)\n",
    "outputs = layers.Dense(NUM_CLASSES, activation=\"softmax\", kernel_regularizer=regularizers.L1L2(0.0001, 0.001))(x)\n",
    "model = models.Model(inputs=inputs, outputs=outputs)\n",
    "model.summary()"
   ],
   "id": "83b92ce40cddb3b1",
   "outputs": [],
   "execution_count": null
  },
  {
   "metadata": {},
   "cell_type": "markdown",
   "source": [
    "- Input size of 224 x 224 x 3.  \n",
    "- Data augmentation (Horizontal Flip, Zoom(+-10%), Rotation (+-10%), Contrast (+-10%), Brightness (+-10%)).  \n",
    "- Preprocess images to fit VGG16 convolutional layers.\n",
    "- VGG16 convolutional layers.\n",
    "- Flatten the tensor to a 25088 x 1 tensor.  \n",
    "- Dropout of 0.5 on the input layer.  \n",
    "- A 256 and 10 dense output layer, one for each category. \n",
    "- L1 regularization 0.0001 and L2 regularization 0.001 on the 256 and 10 dense layer.  \n",
    "- ReLU activation function on the dense layer.  \n",
    "- Softmax activation function on the output layer for multiclass classification.  "
   ],
   "id": "759006a6d6fc081a"
  },
  {
   "metadata": {},
   "cell_type": "markdown",
   "source": [
    "---\n",
    "#### Model Compilation"
   ],
   "id": "b91ca83987f82a9c"
  },
  {
   "metadata": {},
   "cell_type": "code",
   "source": [
    "initial_learning_rate = 0.001\n",
    "optimizer = optimizers.Adam(learning_rate=initial_learning_rate)\n",
    "loss_function = keras.losses.SparseCategoricalCrossentropy()\n",
    "\n",
    "lr_scheduler = callbacks.ReduceLROnPlateau(monitor='val_loss', factor=0.1, patience=3, verbose=1)\n",
    "early_stopping = callbacks.EarlyStopping(monitor='val_loss', patience=6, restore_best_weights=True, verbose=1)\n",
    "save_best_model = callbacks.ModelCheckpoint(filepath='../models/04_model_t_data_augm_fine_tune_adam_1st_model.h5', save_best_only=True, monitor='val_loss', verbose=1)\n",
    "\n",
    "callbacks = [lr_scheduler, early_stopping, save_best_model]\n",
    "\n",
    "model.compile(optimizer=optimizer,\n",
    "              loss=loss_function,\n",
    "              metrics=['accuracy'])"
   ],
   "id": "6a604147d46665f1",
   "outputs": [],
   "execution_count": null
  },
  {
   "metadata": {},
   "cell_type": "markdown",
   "source": [
    "- Adam as the optimizer for this model with an initial learning rate of 0.001.  \n",
    "- Sparse categorical cross entropy as the loss function.  \n",
    "- Learning rate scheduler to lower the learning rate by 0.1 on validation loss plateau (patience of 3).  \n",
    "- Early train stopping based on validation loss improvement (stops when validation loss doesn't improve for 6 straight epochs (patience of 6)).  \n",
    "- Checkpoints to save the best model between each epoch based on validation loss."
   ],
   "id": "3d29c779bb675e70"
  },
  {
   "metadata": {},
   "cell_type": "markdown",
   "source": [
    "---\n",
    "#### Model Training\n",
    "- Training the model during 40 epochs. "
   ],
   "id": "1561b6b62a6a19e8"
  },
  {
   "metadata": {},
   "cell_type": "code",
   "source": [
    "history = model.fit(train_dataset,\n",
    "                    validation_data=validation_dataset,\n",
    "                    epochs=40,\n",
    "                    callbacks=callbacks)"
   ],
   "id": "7c7803fd68bb2466",
   "outputs": [],
   "execution_count": null
  },
  {
   "metadata": {},
   "cell_type": "markdown",
   "source": [
    "---\n",
    "#### Save Model History"
   ],
   "id": "c1414fc4bf4495f3"
  },
  {
   "metadata": {},
   "cell_type": "code",
   "source": [
    "with open(\"../history/03_model_t_data_augm_fine_tune_adam_1st_model.pkl\", \"wb\") as file:\n",
    "    pickle.dump(history.history, file)"
   ],
   "id": "f5ee8f1b7a93d59b",
   "outputs": [],
   "execution_count": null
  },
  {
   "metadata": {},
   "cell_type": "markdown",
   "source": [
    "---\n",
    "#### Model Evaluation"
   ],
   "id": "a0eecc10f90d9984"
  },
  {
   "metadata": {},
   "cell_type": "code",
   "source": [
    "val_loss, val_acc = model.evaluate(validation_dataset)\n",
    "print(f'Model Validation Loss: {val_loss:.2%}')\n",
    "print(f'Model Validation Accuracy: {val_acc:.2%}')"
   ],
   "id": "f85fe9a03246b618",
   "outputs": [],
   "execution_count": null
  },
  {
   "metadata": {},
   "cell_type": "markdown",
   "source": [
    "---\n",
    "#### Model Training Visualization"
   ],
   "id": "3e06235a110145b5"
  },
  {
   "metadata": {},
   "cell_type": "code",
   "source": [
    "acc = history.history['accuracy']\n",
    "val_acc = history.history['val_accuracy']\n",
    "loss = history.history['loss']\n",
    "val_loss = history.history['val_loss']\n",
    "epochs = range(1, len(acc) + 1)\n",
    "\n",
    "plt.figure(figsize=(12, 6))\n",
    "plt.subplot(1, 2, 1)\n",
    "plt.plot(epochs, acc, 'bo', label='Training acc')\n",
    "plt.plot(epochs, val_acc, 'b', label='Validation acc')\n",
    "plt.title('Training and validation accuracy')\n",
    "plt.legend()\n",
    "\n",
    "plt.subplot(1, 2, 2)\n",
    "plt.plot(epochs, loss, 'bo', label='Training loss')\n",
    "plt.plot(epochs, val_loss, 'b', label='Validation loss')\n",
    "plt.title('Training and validation loss')\n",
    "plt.legend()\n",
    "\n",
    "plt.tight_layout()\n",
    "plt.show()"
   ],
   "id": "b82798d66c269136",
   "outputs": [],
   "execution_count": null
  },
  {
   "metadata": {},
   "cell_type": "markdown",
   "source": [
    "- We see that the model begins overfitting after xx epochs.  \n",
    "- The validation accuracy stops improving significantly after the xxth epoch while the training accuracy keeps improving.  \n",
    "- The validation loss stops improving significantly after the xxth epoch while the training loss keeps improving. \n",
    "- The validation loss improves slightly when the learning rate changes to 0.00001 on the xxth epoch\n",
    "- However, the best model is saved on the xxth epoch."
   ],
   "id": "31eb5dbf7e7ffbb8"
  },
  {
   "metadata": {},
   "cell_type": "markdown",
   "source": [
    "---\n",
    "#### Transfer Learning - Fine Tuning"
   ],
   "id": "785d605186464885"
  },
  {
   "metadata": {},
   "cell_type": "code",
   "source": [
    "conv_base.trainable = True\n",
    "for layer in conv_base.layers[:-4]:\n",
    "    layer.trainable = False"
   ],
   "id": "eb2ae30ae5e58028",
   "outputs": [],
   "execution_count": null
  },
  {
   "metadata": {},
   "cell_type": "markdown",
   "source": "- We unfreeze the last 4 layers of the convolutional base.",
   "id": "b9931042a8b8213b"
  },
  {
   "metadata": {},
   "cell_type": "markdown",
   "source": [
    "---\n",
    "#### Model Compilation"
   ],
   "id": "8cc4354139793fa2"
  },
  {
   "metadata": {},
   "cell_type": "code",
   "source": [
    "save_best_model = callbacks.ModelCheckpoint(filepath='../models/04_model_t_data_augm_fine_tune_adam_2nd_model.h5', save_best_only=True, monitor='val_loss', verbose=1)\n",
    "\n",
    "model.compile(optimizer=optimizer,\n",
    "              loss=loss_function,\n",
    "              metrics=['accuracy'])"
   ],
   "id": "f459ef41c06f5b44",
   "outputs": [],
   "execution_count": null
  },
  {
   "metadata": {},
   "cell_type": "markdown",
   "source": [
    "- We compile the model again with the same properties. \n",
    "- We redefine the checkpoints to save the best model between each epoch based on validation loss."
   ],
   "id": "57062bb12a26ce02"
  },
  {
   "metadata": {},
   "cell_type": "markdown",
   "source": [
    "---\n",
    "#### Model Compilation"
   ],
   "id": "238e4a02dd18353a"
  },
  {
   "metadata": {},
   "cell_type": "code",
   "outputs": [],
   "execution_count": null,
   "source": [
    "history = model.fit(train_dataset,\n",
    "                    validation_data=validation_dataset,\n",
    "                    epochs=40,\n",
    "                    callbacks=callbacks)"
   ],
   "id": "1de8740e4e0055cc"
  },
  {
   "metadata": {},
   "cell_type": "markdown",
   "source": [
    "---\n",
    "#### Save Model History"
   ],
   "id": "7ab974427145d447"
  },
  {
   "metadata": {},
   "cell_type": "code",
   "source": [
    "with open(\"../history/model_t_data_augm_fine_tune_adam_2nd_train.pkl\", \"wb\") as file:\n",
    "    pickle.dump(history.history, file)"
   ],
   "id": "f9b23001b4a2affa",
   "outputs": [],
   "execution_count": null
  },
  {
   "metadata": {},
   "cell_type": "markdown",
   "source": [
    "---\n",
    "#### Model Evaluation"
   ],
   "id": "6fbd8cec4af7f64c"
  },
  {
   "metadata": {},
   "cell_type": "code",
   "source": [
    "val_loss, val_acc = model.evaluate(validation_dataset)\n",
    "print(f'Model Validation Loss: {val_loss:.2%}')\n",
    "print(f'Model Validation Accuracy: {val_acc:.2%}')"
   ],
   "id": "76aee0a7cba09066",
   "outputs": [],
   "execution_count": null
  },
  {
   "metadata": {},
   "cell_type": "markdown",
   "source": [
    "---\n",
    "#### Model Training Visualization"
   ],
   "id": "b07b35517a91c380"
  },
  {
   "metadata": {},
   "cell_type": "code",
   "source": [
    "acc = history.history['accuracy']\n",
    "val_acc = history.history['val_accuracy']\n",
    "loss = history.history['loss']\n",
    "val_loss = history.history['val_loss']\n",
    "epochs = range(1, len(acc) + 1)\n",
    "\n",
    "plt.figure(figsize=(12, 6))\n",
    "plt.subplot(1, 2, 1)\n",
    "plt.plot(epochs, acc, 'bo', label='Training acc')\n",
    "plt.plot(epochs, val_acc, 'b', label='Validation acc')\n",
    "plt.title('Training and validation accuracy')\n",
    "plt.legend()\n",
    "\n",
    "plt.subplot(1, 2, 2)\n",
    "plt.plot(epochs, loss, 'bo', label='Training loss')\n",
    "plt.plot(epochs, val_loss, 'b', label='Validation loss')\n",
    "plt.title('Training and validation loss')\n",
    "plt.legend()\n",
    "\n",
    "plt.tight_layout()\n",
    "plt.show()"
   ],
   "id": "93d7878d0c282bc",
   "outputs": [],
   "execution_count": null
  },
  {
   "metadata": {},
   "cell_type": "markdown",
   "source": [
    "- We see that the model begins overfitting after xx epochs.  \n",
    "- The validation accuracy stops improving significantly after the xxth epoch while the training accuracy keeps improving.  \n",
    "- The validation loss stops improving significantly after the xxth epoch while the training loss keeps improving. \n",
    "- The validation loss improves slightly when the learning rate changes to 0.00001 on the xxth epoch\n",
    "- However, the best model is saved on the xxth epoch.  "
   ],
   "id": "68149c6027a4b637"
  },
  {
   "metadata": {},
   "cell_type": "markdown",
   "source": [
    "---\n",
    "#### Model Testing"
   ],
   "id": "d2409d0121f3719"
  },
  {
   "metadata": {},
   "cell_type": "code",
   "source": [
    "test_labels = []\n",
    "test_predictions = []\n",
    "test_probabilities = []\n",
    "\n",
    "for images, labels in test_dataset:\n",
    "    test_labels.extend(labels.numpy())\n",
    "    predictions = model.predict(images)\n",
    "    test_predictions.extend(np.argmax(predictions, axis=-1))\n",
    "    test_probabilities.extend(predictions)\n",
    "\n",
    "test_labels = np.array(test_labels)\n",
    "test_predictions = np.array(test_predictions)\n",
    "test_probabilities = np.array(test_probabilities)"
   ],
   "id": "85b3f7b2aa7331fb",
   "outputs": [],
   "execution_count": null
  },
  {
   "metadata": {},
   "cell_type": "markdown",
   "source": [
    "---\n",
    "#### Confusion Matrix"
   ],
   "id": "fca30daa6d2c5258"
  },
  {
   "metadata": {},
   "cell_type": "code",
   "source": [
    "cm = confusion_matrix(test_labels, test_predictions)\n",
    "disp = ConfusionMatrixDisplay(confusion_matrix=cm, display_labels=class_names)\n",
    "disp.plot(cmap=plt.cm.Blues, xticks_rotation=90)\n",
    "plt.show()"
   ],
   "id": "4be6a931c81836a8",
   "outputs": [],
   "execution_count": null
  },
  {
   "metadata": {},
   "cell_type": "markdown",
   "source": [
    "- Looking at the confusion matrix, we see that the model has some trouble distinguishing between some categories.  \n",
    "- The model has a hard time distinguishing between the categories 003_cat and 005_dog.  \n",
    "- The model also has a hard time distinguishing between some other categories but the error is not as significant.  \n",
    "- The model has an acceptable performance on the categories 001_automobile, 006_frog, 008_ship and 009_truck."
   ],
   "id": "8a3e816c5c8fe13a"
  },
  {
   "metadata": {},
   "cell_type": "markdown",
   "source": [
    "---\n",
    "#### ROC Curve Analysis"
   ],
   "id": "533755f1cf7e91be"
  },
  {
   "metadata": {},
   "cell_type": "code",
   "outputs": [],
   "execution_count": null,
   "source": [
    "test_labels_bin = label_binarize(test_labels, classes=range(NUM_CLASSES))\n",
    "\n",
    "fpr = dict()\n",
    "tpr = dict()\n",
    "roc_auc = dict()\n",
    "\n",
    "for i in range(NUM_CLASSES):\n",
    "    fpr[i], tpr[i], _ = roc_curve(test_labels_bin[:, i], test_probabilities[:, i])\n",
    "    roc_auc[i] = auc(fpr[i], tpr[i])\n",
    "\n",
    "plt.figure(figsize=(10, 8))\n",
    "colors = cycle(['aqua', 'darkorange', 'cornflowerblue', 'blue', 'green', 'red', 'purple', 'brown', 'pink', 'grey'])\n",
    "for i, color in zip(range(NUM_CLASSES), colors):\n",
    "    plt.plot(fpr[i], tpr[i], color=color, lw=2, label=f'Class {class_names[i]} (AUC = {roc_auc[i]:.2f})')\n",
    "\n",
    "plt.plot([0, 1], [0, 1], 'k--', lw=2)\n",
    "plt.xlim([0.0, 1.0])\n",
    "plt.ylim([0.0, 1.05])\n",
    "plt.xlabel('False Positive Rate')\n",
    "plt.ylabel('True Positive Rate')\n",
    "plt.title('Receiver Operating Characteristic (ROC) Curve')\n",
    "plt.legend(loc=\"lower right\")\n",
    "plt.show()"
   ],
   "id": "8a99072bcedd8fae"
  },
  {
   "metadata": {},
   "cell_type": "markdown",
   "source": [
    "- We see that the model has a good performance on the ROC curve for most categories.  \n",
    "- The categories 003_cat, 003_bird, 005_dog and 004_deer have the worst AUC (Area Under Curve) performance.\n",
    "- A perfect AUC of 1.0 would mean that the model classifies all true positives and true negatives correctly."
   ],
   "id": "994d194367625eca"
  },
  {
   "metadata": {},
   "cell_type": "markdown",
   "source": [
    "---\n",
    "#### Performance Metrics\n",
    "- **Accuracy** is the proportion of correctly predicted instances out of the total instances.  \n",
    "- **Precision** is the ratio of true positive predictions to the total predicted positives. Macro precision calculates this for each class independently and then averages them.  \n",
    "- **Weighted precision** calculates the precision for each class, then averages them, weighted by the number of true instances for each class.  \n",
    "- **Recall** is the ratio of true positive predictions to the total actual positives. Macro recall calculates this for each class independently and then averages them.  \n",
    "- **Weighted recall** calculates the recall for each class, then averages them, weighted by the number of true instances for each class.  \n",
    "- The **F1-score** is the harmonic mean of precision and recall. Macro F1-score calculates this for each class independently and then averages them.  \n",
    "- **Weighted F1-score** calculates the F1-score for each class, then averages them, weighted by the number of true instances for each class."
   ],
   "id": "e8c8ee6e74938bdc"
  },
  {
   "metadata": {},
   "cell_type": "code",
   "source": [
    "acc = accuracy_score(y_true =  test_labels, y_pred = test_predictions)\n",
    "print(f'Accuracy : {np.round(acc*100,2)}%')\n",
    "precision = precision_score(y_true =  test_labels, y_pred = test_predictions, average='macro')\n",
    "print(f'Precision - Macro: {np.round(precision*100,2)}%')\n",
    "recall = recall_score(y_true =  test_labels, y_pred = test_predictions, average='macro')\n",
    "print(f'Recall - Macro: {np.round(recall*100,2)}%')\n",
    "f1 = f1_score(y_true =  test_labels, y_pred = test_predictions, average='macro')\n",
    "print(f'F1-score - Macro: {np.round(f1*100,2)}%')\n",
    "precision = precision_score(y_true =  test_labels, y_pred = test_predictions, average='weighted')\n",
    "print(f'Precision - Weighted: {np.round(precision*100,2)}%')\n",
    "recall = recall_score(y_true =  test_labels, y_pred = test_predictions, average='weighted')\n",
    "print(f'Recall - Weighted: {np.round(recall*100,2)}%')\n",
    "f1 = f1_score(y_true =  test_labels, y_pred = test_predictions, average='weighted')\n",
    "print(f'F1-score - Weighted: {np.round(f1*100,2)}%')"
   ],
   "id": "479b290df6a7c03b",
   "outputs": [],
   "execution_count": null
  },
  {
   "metadata": {},
   "cell_type": "markdown",
   "source": "- **Since the dataset is balanced, the **MACRO** average is a good metric to evaluate the model.**",
   "id": "56e463307ddef6bc"
  },
  {
   "metadata": {},
   "cell_type": "markdown",
   "source": [
    "# Conclusion\n",
    "- We made a model composed of the convolutional base of the VGG16 and a classifier.\n",
    "- We have trained the classifier with data augmentation (Horizontal Flip, Zoom, Rotation, Contrast and Brightness), using the Sparse Categorical Cross-Entropy loss function and the Adam optimizer.  \n",
    "- We then unfroze the 4 last layers of the VG16 and retrained the model again with data augmentation.\n",
    "- We experimented with various classifiers, but decided to try a more simple classifier in this notebook.  \n",
    "    - Different learning rates were tested; we settled for the Reduce Learning Rate on Plateau callback.  \n",
    "    - Various batch sizes were explored; this size was optimal for this architecture.  \n",
    "    - Multiple optimizers were evaluated; Adam was the chosen.\n",
    "    - Several regularization values were tried; these values worked best.\n",
    "    - Different dropout rates were assessed; this rate provided the best results.\n",
    "    - Various epoch counts were tested; 40 epochs were optimal.\n",
    "    - Different numbers of layers were evaluated; this architecture was the chosen.\n",
    "- Dropout was applied after the flatten layer.\n",
    "- The model showed some difficulty distinguishing between certain categories, particularly cats and dogs.\n",
    "- Overfitting was observed after xx epochs, but the best model was saved at the xxth epoch.\n",
    "- We evaluated the model using a confusion matrix to analyze its performance on each category.\n",
    "- We evaluated the model using ROC curves for a deeper performance analysis.\n",
    "- The model achieved an accuracy of xx% on the test set.\n",
    "- Performance on the test set was good, with:\n",
    "    - Macro F1-score: xx%\n",
    "    - Weighted F1-score: xx%\n",
    "    - Macro precision: xx%\n",
    "    - Weighted precision: xx%\n",
    "    - Macro recall: xx%\n",
    "    - Weighted recall: xx%"
   ],
   "id": "9d23124cf3831d1c"
  }
 ],
 "metadata": {
  "kernelspec": {
   "display_name": "Python 3",
   "language": "python",
   "name": "python3"
  },
  "language_info": {
   "codemirror_mode": {
    "name": "ipython",
    "version": 2
   },
   "file_extension": ".py",
   "mimetype": "text/x-python",
   "name": "python",
   "nbconvert_exporter": "python",
   "pygments_lexer": "ipython2",
   "version": "2.7.6"
  }
 },
 "nbformat": 4,
 "nbformat_minor": 5
}
