{
 "cells": [
  {
   "metadata": {},
   "cell_type": "markdown",
   "source": [
    "---\n",
    "# Model T - Transfer Learning, Data Augmentation, Fine Tuning, Adam\n",
    "TODO:"
   ],
   "id": "8f90eceeed232e54"
  },
  {
   "metadata": {},
   "cell_type": "markdown",
   "source": [
    "---\n",
    "#### Imports and Setup"
   ],
   "id": "c6735bde07639ba2"
  },
  {
   "cell_type": "code",
   "id": "initial_id",
   "metadata": {
    "collapsed": true
   },
   "source": [
    "import os\n",
    "os.environ['TF_CPP_MIN_LOG_LEVEL'] = '3' # Suppressing tensorflow errors\n",
    "import tensorflow as tf\n",
    "print(f'TensorFlow version: {tf.__version__}')\n",
    "tf.get_logger().setLevel('ERROR')\n",
    "tf.autograph.set_verbosity(3)\n",
    "import matplotlib.pyplot as plt\n",
    "import pickle\n",
    "import numpy as np\n",
    "from tensorflow.keras.utils import image_dataset_from_directory\n",
    "from tensorflow import keras\n",
    "from tensorflow.keras import callbacks, layers, optimizers, models\n",
    "from keras import regularizers\n",
    "from sklearn.metrics import confusion_matrix, ConfusionMatrixDisplay ,accuracy_score, precision_score, recall_score, f1_score\n",
    "from PIL import Image"
   ],
   "outputs": [],
   "execution_count": null
  },
  {
   "metadata": {},
   "cell_type": "markdown",
   "source": [
    "---\n",
    "#### Resizing the images for the VGG16 model"
   ],
   "id": "73416a6aa1d91563"
  },
  {
   "metadata": {},
   "cell_type": "code",
   "source": [
    "IMG_SIZE = 128\n",
    "\n",
    "def resize_image(image_path, new_dimensions=(IMG_SIZE, IMG_SIZE)):\n",
    "    with Image.open(image_path) as img:\n",
    "        resized_img = img.resize(new_dimensions)\n",
    "    return resized_img\n",
    "\n",
    "def resize_images_in_directory(input_directory, output_directory, new_dimensions=(IMG_SIZE, IMG_SIZE)):\n",
    "    os.makedirs(output_directory, exist_ok=True)\n",
    "    for filename in os.listdir(input_directory):\n",
    "        if filename.endswith(\".png\") or filename.endswith(\".jpg\"):\n",
    "            image_path = os.path.join(input_directory, filename)\n",
    "            output_path = os.path.join(output_directory, filename)\n",
    "            resized_img = resize_image(image_path, new_dimensions)\n",
    "            resized_img.save(output_path)\n",
    "\n",
    "resize_images_in_directory('../data/test/000_airplane', f'../data/test_resized_{IMG_SIZE}/000_airplane')\n",
    "resize_images_in_directory('../data/test/001_automobile', f'../data/test_resized_{IMG_SIZE}/001_automobile')\n",
    "resize_images_in_directory('../data/test/002_bird', f'../data/test_resized_{IMG_SIZE}/002_bird')\n",
    "resize_images_in_directory('../data/test/003_cat', f'../data/test_resized_{IMG_SIZE}/003_cat')\n",
    "resize_images_in_directory('../data/test/004_deer', f'../data/test_resized_{IMG_SIZE}/004_deer')\n",
    "resize_images_in_directory('../data/test/005_dog', f'../data/test_resized_{IMG_SIZE}/005_dog')\n",
    "resize_images_in_directory('../data/test/006_frog', f'../data/test_resized_{IMG_SIZE}/006_frog')\n",
    "resize_images_in_directory('../data/test/007_horse', f'../data/test_resized_{IMG_SIZE}/007_horse')\n",
    "resize_images_in_directory('../data/test/008_ship', f'../data/test_resized_{IMG_SIZE}/008_ship')\n",
    "resize_images_in_directory('../data/test/009_truck', f'../data/test_resized_{IMG_SIZE}/009_truck')\n",
    "resize_images_in_directory('../data/train1/000_airplane', f'../data/train1_resized_{IMG_SIZE}/000_airplane')\n",
    "resize_images_in_directory('../data/train1/001_automobile', f'../data/train1_resized_{IMG_SIZE}/001_automobile')\n",
    "resize_images_in_directory('../data/train1/002_bird', f'../data/train1_resized_{IMG_SIZE}/002_bird')\n",
    "resize_images_in_directory('../data/train1/003_cat', f'../data/train1_resized_{IMG_SIZE}/003_cat')\n",
    "resize_images_in_directory('../data/train1/004_deer', f'../data/train1_resized_{IMG_SIZE}/004_deer')\n",
    "resize_images_in_directory('../data/train1/005_dog', f'../data/train1_resized_{IMG_SIZE}/005_dog')\n",
    "resize_images_in_directory('../data/train1/006_frog', f'../data/train1_resized_{IMG_SIZE}/006_frog')\n",
    "resize_images_in_directory('../data/train1/007_horse', f'../data/train1_resized_{IMG_SIZE}/007_horse')\n",
    "resize_images_in_directory('../data/train1/008_ship', f'../data/train1_resized_{IMG_SIZE}/008_ship')\n",
    "resize_images_in_directory('../data/train1/009_truck', f'../data/train1_resized_{IMG_SIZE}/009_truck')\n",
    "resize_images_in_directory('../data/train2/000_airplane', f'../data/train2_resized_{IMG_SIZE}/000_airplane')\n",
    "resize_images_in_directory('../data/train2/001_automobile', f'../data/train2_resized_{IMG_SIZE}/001_automobile')\n",
    "resize_images_in_directory('../data/train2/002_bird', f'../data/train2_resized_{IMG_SIZE}/002_bird')\n",
    "resize_images_in_directory('../data/train2/003_cat', f'../data/train2_resized_{IMG_SIZE}/003_cat')\n",
    "resize_images_in_directory('../data/train2/004_deer', f'../data/train2_resized_{IMG_SIZE}/004_deer')\n",
    "resize_images_in_directory('../data/train2/005_dog', f'../data/train2_resized_{IMG_SIZE}/005_dog')\n",
    "resize_images_in_directory('../data/train2/006_frog', f'../data/train2_resized_{IMG_SIZE}/006_frog')\n",
    "resize_images_in_directory('../data/train2/007_horse', f'../data/train2_resized_{IMG_SIZE}/007_horse')\n",
    "resize_images_in_directory('../data/train2/008_ship', f'../data/train2_resized_{IMG_SIZE}/008_ship')\n",
    "resize_images_in_directory('../data/train2/009_truck', f'../data/train2_resized_{IMG_SIZE}/009_truck')\n",
    "resize_images_in_directory('../data/train3/000_airplane', f'../data/train3_resized_{IMG_SIZE}/000_airplane')\n",
    "resize_images_in_directory('../data/train3/001_automobile', f'../data/train3_resized_{IMG_SIZE}/001_automobile')\n",
    "resize_images_in_directory('../data/train3/002_bird', f'../data/train3_resized_{IMG_SIZE}/002_bird')\n",
    "resize_images_in_directory('../data/train3/003_cat', f'../data/train3_resized_{IMG_SIZE}/003_cat')\n",
    "resize_images_in_directory('../data/train3/004_deer', f'../data/train3_resized_{IMG_SIZE}/004_deer')\n",
    "resize_images_in_directory('../data/train3/005_dog', f'../data/train3_resized_{IMG_SIZE}/005_dog')\n",
    "resize_images_in_directory('../data/train3/006_frog', f'../data/train3_resized_{IMG_SIZE}/006_frog')\n",
    "resize_images_in_directory('../data/train3/007_horse', f'../data/train3_resized_{IMG_SIZE}/007_horse')\n",
    "resize_images_in_directory('../data/train3/008_ship', f'../data/train3_resized_{IMG_SIZE}/008_ship')\n",
    "resize_images_in_directory('../data/train3/009_truck', f'../data/train3_resized_{IMG_SIZE}/009_truck')\n",
    "resize_images_in_directory('../data/train4/000_airplane', f'../data/train4_resized_{IMG_SIZE}/000_airplane')\n",
    "resize_images_in_directory('../data/train4/001_automobile', f'../data/train4_resized_{IMG_SIZE}/001_automobile')\n",
    "resize_images_in_directory('../data/train4/002_bird', f'../data/train4_resized_{IMG_SIZE}/002_bird')\n",
    "resize_images_in_directory('../data/train4/003_cat', f'../data/train4_resized_{IMG_SIZE}/003_cat')\n",
    "resize_images_in_directory('../data/train4/004_deer', f'../data/train4_resized_{IMG_SIZE}/004_deer')\n",
    "resize_images_in_directory('../data/train4/005_dog', f'../data/train4_resized_{IMG_SIZE}/005_dog')\n",
    "resize_images_in_directory('../data/train4/006_frog', f'../data/train4_resized_{IMG_SIZE}/006_frog')\n",
    "resize_images_in_directory('../data/train4/007_horse', f'../data/train4_resized_{IMG_SIZE}/007_horse')\n",
    "resize_images_in_directory('../data/train4/008_ship', f'../data/train4_resized_{IMG_SIZE}/008_ship')\n",
    "resize_images_in_directory('../data/train4/009_truck', f'../data/train4_resized_{IMG_SIZE}/009_truck')\n",
    "resize_images_in_directory('../data/train5/000_airplane', f'../data/train5_resized_{IMG_SIZE}/000_airplane')\n",
    "resize_images_in_directory('../data/train5/001_automobile', f'../data/train5_resized_{IMG_SIZE}/001_automobile')\n",
    "resize_images_in_directory('../data/train5/002_bird', f'../data/train5_resized_{IMG_SIZE}/002_bird')\n",
    "resize_images_in_directory('../data/train5/003_cat', f'../data/train5_resized_{IMG_SIZE}/003_cat')\n",
    "resize_images_in_directory('../data/train5/004_deer', f'../data/train5_resized_{IMG_SIZE}/004_deer')\n",
    "resize_images_in_directory('../data/train5/005_dog', f'../data/train5_resized_{IMG_SIZE}/005_dog')\n",
    "resize_images_in_directory('../data/train5/006_frog', f'../data/train5_resized_{IMG_SIZE}/006_frog')\n",
    "resize_images_in_directory('../data/train5/007_horse', f'../data/train5_resized_{IMG_SIZE}/007_horse')\n",
    "resize_images_in_directory('../data/train5/008_ship', f'../data/train5_resized_{IMG_SIZE}/008_ship')\n",
    "resize_images_in_directory('../data/train5/009_truck', f'../data/train5_resized_{IMG_SIZE}/009_truck')"
   ],
   "id": "834c34df0824e916",
   "outputs": [],
   "execution_count": null
  },
  {
   "metadata": {},
   "cell_type": "markdown",
   "source": [
    "> We resize the images to 128x128 pixels to fit the VGG16 model.\n",
    "> With this image size, we expect a 4 x 4 x 512 feature map after the convolutional base."
   ],
   "id": "1a9991ed0da93f8e"
  },
  {
   "metadata": {},
   "cell_type": "markdown",
   "source": [
    "---\n",
    "#### Group Datasets"
   ],
   "id": "3bd6072b1d12d0b4"
  },
  {
   "metadata": {},
   "cell_type": "code",
   "source": [
    "train_dirs = ['../data/train1_resized_128', '../data/train3_resized_128', '../data/train4_resized_128', '../data/train5_resized_128']\n",
    "validation_dir = '../data/train2_resized_128'\n",
    "test_dir = '../data/test_resized_128'"
   ],
   "id": "f972b55051087b5",
   "outputs": [],
   "execution_count": null
  },
  {
   "metadata": {},
   "cell_type": "markdown",
   "source": [
    "> ((2221985 + 2221986) % 5) + 1 = 2  \n",
    "> Validation set: train2.  "
   ],
   "id": "5af858988eb26fa7"
  },
  {
   "metadata": {},
   "cell_type": "markdown",
   "source": [
    "---\n",
    "####  Count Images in Categories"
   ],
   "id": "ee938881c0c3de3e"
  },
  {
   "metadata": {},
   "cell_type": "code",
   "source": [
    "def count_images_in_categories(directory):\n",
    "    categories = os.listdir(directory)\n",
    "    category_counts = {}\n",
    "    for category in categories:\n",
    "        category_counts[category] = len(os.listdir(os.path.join(directory, category)))\n",
    "    return category_counts\n",
    "\n",
    "train_counts_each_dir = [count_images_in_categories(train_dir) for train_dir in train_dirs]\n",
    "validation_counts = count_images_in_categories(validation_dir)\n",
    "test_counts = count_images_in_categories(test_dir)\n",
    "train_counts = {category: sum([count.get(category, 0) for count in train_counts_each_dir]) for category in train_counts_each_dir[0]}\n",
    "\n",
    "def plot_statistics(dataset_name, category_counts, color):\n",
    "    categories = list(category_counts.keys())\n",
    "    counts = list(category_counts.values())\n",
    "    num_categories = len(categories)\n",
    "    plt.figure(figsize=(8, 6))\n",
    "    bars = plt.barh(range(num_categories), counts, color=color, alpha=1)\n",
    "\n",
    "    for bar, count in zip(bars, counts):\n",
    "        plt.text(bar.get_width() - 5, bar.get_y() + bar.get_height()/2, str(count), va='center', ha='right', color='white', fontweight='bold')\n",
    "\n",
    "    plt.ylabel('Categories')\n",
    "    plt.xlabel('Number of Images')\n",
    "    plt.yticks(range(num_categories), categories)\n",
    "    plt.title(f'Distribution of Images in {dataset_name} Dataset')\n",
    "    plt.tight_layout()\n",
    "    plt.show()\n",
    "\n",
    "plot_statistics('Training Set', train_counts, 'blue')\n",
    "plot_statistics('Validation Set', validation_counts, 'purple')\n",
    "plot_statistics('Test Set', test_counts, 'red')"
   ],
   "id": "aa6531a821363870",
   "outputs": [],
   "execution_count": null
  },
  {
   "metadata": {},
   "cell_type": "markdown",
   "source": [
    "> We count the images of each category in each folder and plot the distribution.  \n",
    "> We see that there are minor deviations the number of samples of each category in the train dataset and a bit more in the validation dataset. "
   ],
   "id": "e8f9f7592a567690"
  },
  {
   "metadata": {},
   "cell_type": "markdown",
   "source": [
    "---\n",
    "#### Create Datasets"
   ],
   "id": "dfc2bfc04e619b7d"
  },
  {
   "metadata": {},
   "cell_type": "code",
   "source": [
    "BATCH_SIZE = 256\n",
    "NUM_CLASSES = len(train_counts)\n",
    "\n",
    "train_datasets = [image_dataset_from_directory(directory, image_size=(IMG_SIZE, IMG_SIZE), batch_size=BATCH_SIZE) for directory in train_dirs]\n",
    "\n",
    "class_names = train_datasets[0].class_names\n",
    "\n",
    "train_dataset = train_datasets[0]\n",
    "for dataset in train_datasets[1:]:\n",
    "    train_dataset = train_dataset.concatenate(dataset)\n",
    "\n",
    "train_dataset = train_dataset.shuffle(buffer_size=1000).prefetch(buffer_size=tf.data.AUTOTUNE) # We tried without shuffle and prefetch\n",
    "validation_dataset = image_dataset_from_directory(validation_dir, image_size=(IMG_SIZE, IMG_SIZE), batch_size=BATCH_SIZE).prefetch(buffer_size=tf.data.AUTOTUNE)\n",
    "test_dataset = image_dataset_from_directory(test_dir, image_size=(IMG_SIZE, IMG_SIZE), batch_size=BATCH_SIZE).prefetch(buffer_size=tf.data.AUTOTUNE)"
   ],
   "id": "d699b2929af3e6b1",
   "outputs": [],
   "execution_count": null
  },
  {
   "metadata": {},
   "cell_type": "markdown",
   "source": [
    "> We define the batch size of 256 and create an array with the label's names.  \n",
    "> We create the train dataset by concatenating them, we shuffle the samples before each epoch and prefetch them to memory.  \n",
    "> We do the same for the validation and test dataset except shuffling which is unnecessary."
   ],
   "id": "d7988a1b1bf91e80"
  },
  {
   "metadata": {},
   "cell_type": "markdown",
   "source": [
    "---\n",
    "#### Dataset Analysis"
   ],
   "id": "e6943c727cdce170"
  },
  {
   "metadata": {},
   "cell_type": "code",
   "source": [
    "for data_batch, labels_batch in train_dataset.take(1):\n",
    "    print('data batch shape:', data_batch.shape)\n",
    "    print('labels batch shape:', labels_batch.shape)"
   ],
   "id": "f329098415b82fe3",
   "outputs": [],
   "execution_count": null
  },
  {
   "metadata": {},
   "cell_type": "markdown",
   "source": [
    "> We have batches of 256 images, 128 by 128 pixels with 3 channels (RGB).  \n",
    "> We also have batches of 256 labels, one for each image.  "
   ],
   "id": "3afa51ab590c7c75"
  },
  {
   "metadata": {},
   "cell_type": "markdown",
   "source": [
    "---\n",
    "#### Data Augmentation"
   ],
   "id": "2962ea5d34b97ff"
  },
  {
   "metadata": {},
   "cell_type": "code",
   "source": [
    "data_augmentation = keras.Sequential(\n",
    "    [\n",
    "        # We tried more techniques but the model didn't perform well\n",
    "        keras.layers.RandomFlip(\"horizontal\"),\n",
    "        keras.layers.RandomTranslation(0.1, 0.1),\n",
    "        keras.layers.RandomContrast(0.1),\n",
    "        keras.layers.RandomBrightness(0.1),\n",
    "        keras.layers.RandomRotation(0.1),\n",
    "        keras.layers.RandomZoom(0.1),\n",
    "    ]\n",
    ")"
   ],
   "id": "78ddf0eb7f6e200b",
   "outputs": [],
   "execution_count": null
  },
  {
   "metadata": {},
   "cell_type": "markdown",
   "source": "> We define a data augmentation pipeline with horizontal flip, translation, contrast, brightness, rotation and zoom.",
   "id": "4222cee4f488f11c"
  },
  {
   "metadata": {},
   "cell_type": "markdown",
   "source": [
    "---\n",
    "#### Augmented Dataset Visualization"
   ],
   "id": "2822a632e4b1d743"
  },
  {
   "metadata": {},
   "cell_type": "code",
   "source": [
    "for images, labels in train_dataset.take(1):\n",
    "    plt.figure(figsize=(128, 128))\n",
    "    for i in range(len(images)):\n",
    "        augmented_images = data_augmentation(images)\n",
    "        ax = plt.subplot(16, 16, i + 1)\n",
    "        plt.imshow(augmented_images[i].numpy().astype(\"uint8\"))\n",
    "        plt.title(class_names[labels[i].numpy()])\n",
    "        plt.axis(\"off\")\n",
    "        plt.tight_layout()\n",
    "    plt.show()"
   ],
   "id": "5a110bdf58d174b4",
   "outputs": [],
   "execution_count": null
  },
  {
   "metadata": {},
   "cell_type": "markdown",
   "source": [
    "> We print a random batch of augmented images from the train dataset along with their respective labels.  \n",
    "> We see that the images are of different categories and are now of 128 x 128 pixels with slight variations."
   ],
   "id": "9a98995fa9fc67d"
  },
  {
   "metadata": {},
   "cell_type": "markdown",
   "source": [
    "---\n",
    "#### Loading the VGG16 Model"
   ],
   "id": "d1a35d3cdfbf44a5"
  },
  {
   "metadata": {},
   "cell_type": "code",
   "source": [
    "from keras.applications.vgg16 import VGG16\n",
    "conv_base = VGG16(weights='imagenet', include_top=False)\n",
    "conv_base.trainable = False"
   ],
   "id": "7cea8386294502c7",
   "outputs": [],
   "execution_count": null
  },
  {
   "metadata": {},
   "cell_type": "markdown",
   "source": [
    "> We load the VGG16 model with the imagenet weights and without the top layer.  \n",
    "> Setting trainable to False empties the list of trainable weights of the layer or model.  "
   ],
   "id": "6f3271d7ffe978de"
  },
  {
   "metadata": {},
   "cell_type": "markdown",
   "source": [
    "---\n",
    "#### Dense Network Arquitecture"
   ],
   "id": "e1295d3f549e2bcc"
  },
  {
   "metadata": {},
   "cell_type": "code",
   "source": [
    "inputs = keras.Input(shape=(128, 128, 3))\n",
    "x = data_augmentation(inputs)\n",
    "x = keras.applications.vgg16.preprocess_input(x)\n",
    "x = conv_base(x)\n",
    "x = layers.Flatten()(x)\n",
    "x = layers.Dense(128, activation=\"relu\", kernel_regularizer=regularizers.L2(0.01))(x)\n",
    "x = layers.Dropout(0.25)(x)\n",
    "outputs = layers.Dense(NUM_CLASSES, activation=\"softmax\")(x)\n",
    "model = keras.Model(inputs, outputs)\n",
    "model.summary()"
   ],
   "id": "83b92ce40cddb3b1",
   "outputs": [],
   "execution_count": null
  },
  {
   "metadata": {},
   "cell_type": "markdown",
   "source": [
    "> We define a dense network with two hidden layers of 512 and 256 neurons respectively.\n",
    "> We use the ReLU activation function and L2 regularization with a factor of 0.01.\n",
    "> We also use dropout layers with 0.5 and 0.25 dropout rates.\n",
    "> The output layer has the softmax activation function.\n",
    "> We compile the model with the RMSprop optimizer and the sparse categorical crossentropy loss function.\n",
    "> We also monitor the accuracy metric.\n",
    "> We define the ReduceLROnPlateau and EarlyStopping callbacks.\n",
    "> We train the model with 40 epochs and the validation dataset.\n",
    "> We save the best model based on the validation loss.\n",
    "> We save the training history.\n",
    "> We evaluate the model with the validation dataset.\n",
    "> We plot the loss and accuracy curves.\n",
    "> We build the full model with the convolutional base and the dense network.\n",
    "> We compile the full model with the RMSprop optimizer and the sparse categorical crossentropy loss function.\n",
    "> We save the full model.\n",
    "> We evaluate the full model with the test dataset.\n",
    "> We predict the test dataset and collect the test labels and the predicted test labels.\n",
    "> We plot the confusion matrix.\n",
    "> We calculate the performance metrics.\n",
    "> TODO:"
   ],
   "id": "759006a6d6fc081a"
  },
  {
   "metadata": {},
   "cell_type": "markdown",
   "source": [
    "---\n",
    "#### Model Compilation"
   ],
   "id": "b91ca83987f82a9c"
  },
  {
   "metadata": {},
   "cell_type": "code",
   "source": [
    "initial_learning_rate = 0.001\n",
    "optimizer = optimizers.Adam(learning_rate=initial_learning_rate)\n",
    "loss_function = keras.losses.SparseCategoricalCrossentropy()\n",
    "lr_scheduler = callbacks.ReduceLROnPlateau(monitor='val_loss', factor=0.1, patience=5, verbose=1)\n",
    "early_stopping_callback = callbacks.EarlyStopping(monitor='val_loss', patience=10, restore_best_weights=True, verbose=1)\n",
    "\n",
    "callbacks = [\n",
    "    keras.callbacks.ModelCheckpoint(\n",
    "        filepath='../models/model_t_data_augm_fine_tune_adam_1st_train.h5',\n",
    "        save_best_only=True,\n",
    "        monitor='val_loss',\n",
    "        verbose=1)\n",
    "]\n",
    "\n",
    "model.compile(optimizer=optimizer,\n",
    "              loss=loss_function,\n",
    "              metrics=['accuracy'])"
   ],
   "id": "6a604147d46665f1",
   "outputs": [],
   "execution_count": null
  },
  {
   "metadata": {},
   "cell_type": "markdown",
   "source": "> TODO:",
   "id": "3d29c779bb675e70"
  },
  {
   "metadata": {},
   "cell_type": "markdown",
   "source": [
    "---\n",
    "#### Model Training"
   ],
   "id": "1561b6b62a6a19e8"
  },
  {
   "metadata": {},
   "cell_type": "code",
   "source": [
    "history = model.fit(train_dataset,\n",
    "                    epochs=20,\n",
    "                    validation_data=(validation_dataset),\n",
    "                    callbacks=[callbacks, lr_scheduler, early_stopping_callback])"
   ],
   "id": "7c7803fd68bb2466",
   "outputs": [],
   "execution_count": null
  },
  {
   "metadata": {},
   "cell_type": "markdown",
   "source": [
    "> We train the model with 20 epochs and the validation dataset.  \n",
    "> TODO:"
   ],
   "id": "a00f106feb5a1c06"
  },
  {
   "metadata": {},
   "cell_type": "markdown",
   "source": [
    "---\n",
    "#### Save Model History"
   ],
   "id": "c1414fc4bf4495f3"
  },
  {
   "metadata": {},
   "cell_type": "code",
   "source": [
    "with open(\"../history/model_t_data_augm_fine_tune_adam_1st_train.pkl\", \"wb\") as file:\n",
    "    pickle.dump(history.history, file)"
   ],
   "id": "f5ee8f1b7a93d59b",
   "outputs": [],
   "execution_count": null
  },
  {
   "metadata": {},
   "cell_type": "markdown",
   "source": [
    "---\n",
    "#### Model Evaluation"
   ],
   "id": "a0eecc10f90d9984"
  },
  {
   "metadata": {},
   "cell_type": "code",
   "source": [
    "val_loss, val_acc = model.evaluate(validation_dataset)\n",
    "print('Model Validation Loss: ', val_loss)\n",
    "print('Model Validation Accuracy: ', val_acc)"
   ],
   "id": "f85fe9a03246b618",
   "outputs": [],
   "execution_count": null
  },
  {
   "metadata": {},
   "cell_type": "markdown",
   "source": [
    "---\n",
    "#### Model Training Visualization"
   ],
   "id": "3e06235a110145b5"
  },
  {
   "metadata": {},
   "cell_type": "code",
   "source": [
    "acc = history.history['accuracy']\n",
    "val_acc = history.history['val_accuracy']\n",
    "loss = history.history['loss']\n",
    "val_loss = history.history['val_loss']\n",
    "epochs = range(1, len(acc) + 1)\n",
    "\n",
    "plt.figure(figsize=(12, 6))\n",
    "plt.subplot(1, 2, 1)\n",
    "plt.plot(epochs, acc, 'bo', label='Training acc')\n",
    "plt.plot(epochs, val_acc, 'b', label='Validation acc')\n",
    "plt.title('Training and validation accuracy')\n",
    "plt.legend()\n",
    "\n",
    "plt.subplot(1, 2, 2)\n",
    "plt.plot(epochs, loss, 'bo', label='Training loss')\n",
    "plt.plot(epochs, val_loss, 'b', label='Validation loss')\n",
    "plt.title('Training and validation loss')\n",
    "plt.legend()\n",
    "\n",
    "plt.tight_layout()\n",
    "plt.show()"
   ],
   "id": "b82798d66c269136",
   "outputs": [],
   "execution_count": null
  },
  {
   "metadata": {},
   "cell_type": "markdown",
   "source": "> TODO:",
   "id": "31eb5dbf7e7ffbb8"
  },
  {
   "metadata": {},
   "cell_type": "markdown",
   "source": [
    "---\n",
    "#### Transfer Learning - Fine Tuning"
   ],
   "id": "785d605186464885"
  },
  {
   "metadata": {},
   "cell_type": "code",
   "source": [
    "# Freezing all layers except the last 4:\n",
    "conv_base.trainable = True\n",
    "for layer in conv_base.layers[:-4]:\n",
    "    layer.trainable = False"
   ],
   "id": "eb2ae30ae5e58028",
   "outputs": [],
   "execution_count": null
  },
  {
   "metadata": {},
   "cell_type": "markdown",
   "source": [
    "> We unfreeze the last 4 layers of the convolutional base.\n",
    "> TODO:"
   ],
   "id": "b9931042a8b8213b"
  },
  {
   "metadata": {},
   "cell_type": "markdown",
   "source": [
    "---\n",
    "#### Model Compilation & Training"
   ],
   "id": "8cc4354139793fa2"
  },
  {
   "metadata": {},
   "cell_type": "code",
   "source": [
    "model.compile(optimizer=optimizer,\n",
    "              loss=loss_function,\n",
    "              metrics=['accuracy'])\n",
    "\n",
    "callbacks = [\n",
    "    keras.callbacks.ModelCheckpoint(\n",
    "        filepath='../models/model_t_data_augm_fine_tune_adam_2nd_train.h5',\n",
    "        save_best_only=True,\n",
    "        monitor='val_loss',\n",
    "        verbose=1)\n",
    "]\n",
    "\n",
    "history = model.fit(train_dataset,\n",
    "                    epochs=20,\n",
    "                    validation_data=(validation_dataset),\n",
    "                    callbacks=[callbacks, lr_scheduler, early_stopping_callback])"
   ],
   "id": "f459ef41c06f5b44",
   "outputs": [],
   "execution_count": null
  },
  {
   "metadata": {},
   "cell_type": "markdown",
   "source": [
    "> We compile the model with the Adam optimizer and the sparse categorical crossentropy loss function.\n",
    "> TODO:"
   ],
   "id": "57062bb12a26ce02"
  },
  {
   "metadata": {},
   "cell_type": "markdown",
   "source": [
    "---\n",
    "#### Save Model History"
   ],
   "id": "7ab974427145d447"
  },
  {
   "metadata": {},
   "cell_type": "code",
   "source": [
    "with open(\"../history/model_t_data_augm_fine_tune_adam_2nd_train.pkl\", \"wb\") as file:\n",
    "    pickle.dump(history.history, file)"
   ],
   "id": "f9b23001b4a2affa",
   "outputs": [],
   "execution_count": null
  },
  {
   "metadata": {},
   "cell_type": "markdown",
   "source": [
    "---\n",
    "#### Model Evaluation"
   ],
   "id": "6fbd8cec4af7f64c"
  },
  {
   "metadata": {},
   "cell_type": "code",
   "source": [
    "val_loss, val_acc = model.evaluate(validation_dataset)\n",
    "print('Model Validation Loss: ', val_loss)\n",
    "print('Model Validation Accuracy: ', val_acc)"
   ],
   "id": "76aee0a7cba09066",
   "outputs": [],
   "execution_count": null
  },
  {
   "metadata": {},
   "cell_type": "markdown",
   "source": [
    "---\n",
    "#### Model Training Visualization"
   ],
   "id": "b07b35517a91c380"
  },
  {
   "metadata": {},
   "cell_type": "code",
   "source": [
    "acc = history.history['accuracy']\n",
    "val_acc = history.history['val_accuracy']\n",
    "loss = history.history['loss']\n",
    "val_loss = history.history['val_loss']\n",
    "epochs = range(1, len(acc) + 1)\n",
    "\n",
    "plt.figure(figsize=(12, 6))\n",
    "plt.subplot(1, 2, 1)\n",
    "plt.plot(epochs, acc, 'bo', label='Training acc')\n",
    "plt.plot(epochs, val_acc, 'b', label='Validation acc')\n",
    "plt.title('Training and validation accuracy')\n",
    "plt.legend()\n",
    "\n",
    "plt.subplot(1, 2, 2)\n",
    "plt.plot(epochs, loss, 'bo', label='Training loss')\n",
    "plt.plot(epochs, val_loss, 'b', label='Validation loss')\n",
    "plt.title('Training and validation loss')\n",
    "plt.legend()\n",
    "\n",
    "plt.tight_layout()\n",
    "plt.show()"
   ],
   "id": "93d7878d0c282bc",
   "outputs": [],
   "execution_count": null
  },
  {
   "metadata": {},
   "cell_type": "markdown",
   "source": "> TODO:",
   "id": "68149c6027a4b637"
  },
  {
   "metadata": {},
   "cell_type": "markdown",
   "source": [
    "---\n",
    "#### Model Testing"
   ],
   "id": "d2409d0121f3719"
  },
  {
   "metadata": {},
   "cell_type": "code",
   "source": [
    "test_labels = []\n",
    "test_predictions = []\n",
    "\n",
    "for images, labels in test_dataset:\n",
    "    test_labels.extend(labels.numpy())\n",
    "    predictions = model.predict(images)\n",
    "    test_predictions.extend(np.argmax(predictions, axis=-1))\n",
    "\n",
    "test_labels = np.array(test_labels)\n",
    "test_predictions = np.array(test_predictions)"
   ],
   "id": "85b3f7b2aa7331fb",
   "outputs": [],
   "execution_count": null
  },
  {
   "metadata": {},
   "cell_type": "markdown",
   "source": [
    "---\n",
    "#### Confusion Matrix"
   ],
   "id": "fca30daa6d2c5258"
  },
  {
   "metadata": {},
   "cell_type": "code",
   "source": [
    "cm = confusion_matrix(test_labels, test_predictions)\n",
    "disp = ConfusionMatrixDisplay(confusion_matrix=cm, display_labels=class_names)\n",
    "disp.plot(cmap=plt.cm.Blues, xticks_rotation=90)\n",
    "plt.show()"
   ],
   "id": "4be6a931c81836a8",
   "outputs": [],
   "execution_count": null
  },
  {
   "metadata": {},
   "cell_type": "markdown",
   "source": "> TODO:",
   "id": "8a3e816c5c8fe13a"
  },
  {
   "metadata": {},
   "cell_type": "markdown",
   "source": [
    "---\n",
    "#### Performance Metrics"
   ],
   "id": "e8c8ee6e74938bdc"
  },
  {
   "metadata": {},
   "cell_type": "code",
   "source": [
    "acc = accuracy_score(y_true =  test_labels, y_pred = test_predictions)\n",
    "print(f'Accuracy : {np.round(acc*100,2)}%')\n",
    "precision = precision_score(y_true =  test_labels, y_pred = test_predictions, average='macro')\n",
    "print(f'Precision - Macro: {np.round(precision*100,2)}%')\n",
    "recall = recall_score(y_true =  test_labels, y_pred = test_predictions, average='macro')\n",
    "print(f'Recall - Macro: {np.round(recall*100,2)}%')\n",
    "f1 = f1_score(y_true =  test_labels, y_pred = test_predictions, average='macro')\n",
    "print(f'F1-score - Macro: {np.round(f1*100,2)}%')\n",
    "precision = precision_score(y_true =  test_labels, y_pred = test_predictions, average='weighted')\n",
    "print(f'Precision - Weighted: {np.round(precision*100,2)}%')\n",
    "recall = recall_score(y_true =  test_labels, y_pred = test_predictions, average='weighted')\n",
    "print(f'Recall - Weighted: {np.round(recall*100,2)}%')\n",
    "f1 = f1_score(y_true =  test_labels, y_pred = test_predictions, average='weighted')\n",
    "print(f'F1-score - Weighted: {np.round(f1*100,2)}%')"
   ],
   "id": "479b290df6a7c03b",
   "outputs": [],
   "execution_count": null
  },
  {
   "metadata": {},
   "cell_type": "markdown",
   "source": [
    "> Accuracy is the proportion of correctly predicted instances out of the total instances.  \n",
    "> Precision is the ratio of true positive predictions to the total predicted positives. Macro precision calculates this for each class independently and then averages them.  \n",
    "> Weighted precision calculates the precision for each class, then averages them, weighted by the number of true instances for each class.  \n",
    "> Recall is the ratio of true positive predictions to the total actual positives. Macro recall calculates this for each class independently and then averages them.  \n",
    "> Weighted recall calculates the recall for each class, then averages them, weighted by the number of true instances for each class.  \n",
    "> The F1-score is the harmonic mean of precision and recall. Macro F1-score calculates this for each class independently and then averages them.  \n",
    "> Weighted F1-score calculates the F1-score for each class, then averages them, weighted by the number of true instances for each class."
   ],
   "id": "56e463307ddef6bc"
  },
  {
   "metadata": {},
   "cell_type": "markdown",
   "source": [
    "---\n",
    "# Conclusion\n",
    "> We have trained a model with no data augmentation, dropout and RMSProp optimizer.  \n",
    "> We opted to add Batch Normalization after each convolutional layer.  \n",
    "> We have used L2 regularization on the convolutional and dense layers.  \n",
    "> We have used dropout on the dense layers.  \n",
    "> The model has shown some trouble distinguishing between some categories.  \n",
    "> The model has shown some overfitting after 12 epochs but the best model was saved on the 28th epoch.  \n",
    "> The model has shown an accuracy of 74.86% on the test set.  \n",
    "> The model has shown a good performance on the test set with a macro F1-score of 74.86% and a weighted F1-score of 74.86%.  \n",
    "> The model has shown a good performance on the test set with a macro precision of 74.86% and a weighted precision of 74.86%.  \n",
    "> The model has shown a good performance on the test set with a macro recall of 74.86% and a weighted recall of 74.86%.  \n",
    "> TODO:"
   ],
   "id": "9d23124cf3831d1c"
  }
 ],
 "metadata": {
  "kernelspec": {
   "display_name": "Python 3",
   "language": "python",
   "name": "python3"
  },
  "language_info": {
   "codemirror_mode": {
    "name": "ipython",
    "version": 2
   },
   "file_extension": ".py",
   "mimetype": "text/x-python",
   "name": "python",
   "nbconvert_exporter": "python",
   "pygments_lexer": "ipython2",
   "version": "2.7.6"
  }
 },
 "nbformat": 4,
 "nbformat_minor": 5
}
