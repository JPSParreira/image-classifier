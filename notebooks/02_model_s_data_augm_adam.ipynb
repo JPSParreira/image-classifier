{
 "cells": [
  {
   "cell_type": "markdown",
   "id": "8f90eceeed232e54",
   "metadata": {},
   "source": [
    "---\n",
    "# Model S - From Scratch, Data Augmentation, Adam Optimizer\n",
    "- 32 x 32 x 3 Image size.  \n",
    "- **64 Batch size**.  \n",
    "- Horizontal Flip, Contrast and Brightness **Data augmentation**.  \n",
    "- Adaptive Moment Estimation **(Adam) optimizer**.  \n",
    "- **0.001 Initial Learning rate**.  \n",
    "- 3 x 3 Convolutional kernel size.  \n",
    "- 5 x 5 x 256 Tensor before flatten.  \n",
    "- **40 Epochs**.  "
   ]
  },
  {
   "metadata": {},
   "cell_type": "markdown",
   "source": [
    "---\n",
    "#### Imports and Setup"
   ],
   "id": "ce76e06a33cd2f04"
  },
  {
   "cell_type": "code",
   "id": "initial_id",
   "metadata": {
    "collapsed": true
   },
   "source": [
    "import os\n",
    "os.environ['TF_CPP_MIN_LOG_LEVEL'] = '3'\n",
    "import tensorflow as tf\n",
    "print(f'TensorFlow version: {tf.__version__}')\n",
    "tf.get_logger().setLevel('ERROR')\n",
    "tf.autograph.set_verbosity(3)\n",
    "import matplotlib.pyplot as plt\n",
    "import pickle\n",
    "import numpy as np\n",
    "from tensorflow.keras.utils import image_dataset_from_directory\n",
    "from tensorflow import keras\n",
    "from tensorflow.keras import callbacks, layers, optimizers, models\n",
    "from keras import regularizers\n",
    "from sklearn.metrics import confusion_matrix, ConfusionMatrixDisplay ,accuracy_score, precision_score, recall_score, f1_score, roc_curve, auc\n",
    "from sklearn.preprocessing import label_binarize\n",
    "from itertools import cycle"
   ],
   "outputs": [],
   "execution_count": null
  },
  {
   "cell_type": "markdown",
   "id": "3bd6072b1d12d0b4",
   "metadata": {},
   "source": [
    "---\n",
    "#### Group Datasets"
   ]
  },
  {
   "cell_type": "code",
   "id": "f972b55051087b5",
   "metadata": {},
   "source": [
    "train_dirs = ['../data/train1', '../data/train3', '../data/train4', '../data/train5']\n",
    "validation_dir = '../data/train2'\n",
    "test_dir = '../data/test'"
   ],
   "outputs": [],
   "execution_count": null
  },
  {
   "cell_type": "markdown",
   "id": "eacd1d68",
   "metadata": {},
   "source": [
    "- ((2221985 + 2221986) % 5) + 1 = 2  \n",
    "- **Validation set: train2**.  "
   ]
  },
  {
   "cell_type": "markdown",
   "id": "ee938881c0c3de3e",
   "metadata": {},
   "source": [
    "---\n",
    "####  Count Images in Categories"
   ]
  },
  {
   "cell_type": "code",
   "id": "aa6531a821363870",
   "metadata": {},
   "source": [
    "def count_images_in_categories(directory):\n",
    "    categories = os.listdir(directory)\n",
    "    category_counts = {}\n",
    "    for category in categories:\n",
    "        category_counts[category] = len(os.listdir(os.path.join(directory, category)))\n",
    "    return category_counts\n",
    "\n",
    "train_counts_each_dir = [count_images_in_categories(train_dir) for train_dir in train_dirs]\n",
    "validation_counts = count_images_in_categories(validation_dir)\n",
    "test_counts = count_images_in_categories(test_dir)\n",
    "train_counts = {category: sum([count.get(category, 0) for count in train_counts_each_dir]) for category in train_counts_each_dir[0]}\n",
    "\n",
    "def plot_statistics(dataset_name, category_counts, color):\n",
    "    categories = list(category_counts.keys())\n",
    "    counts = list(category_counts.values())\n",
    "    num_categories = len(categories)\n",
    "    plt.figure(figsize=(8, 6))\n",
    "    bars = plt.barh(range(num_categories), counts, color=color, alpha=1)\n",
    "\n",
    "    for bar, count in zip(bars, counts):\n",
    "        plt.text(bar.get_width() - 5, bar.get_y() + bar.get_height()/2, str(count), va='center', ha='right', color='white', fontweight='bold')\n",
    "        \n",
    "    plt.ylabel('Categories')\n",
    "    plt.xlabel('Number of Images')\n",
    "    plt.yticks(range(num_categories), categories)\n",
    "    plt.title(f'Distribution of Images in {dataset_name} Dataset')\n",
    "    plt.tight_layout()\n",
    "    plt.show()\n",
    "\n",
    "plot_statistics('Training Set', train_counts, 'blue')\n",
    "plot_statistics('Validation Set', validation_counts, 'purple')\n",
    "plot_statistics('Test Set', test_counts, 'red')"
   ],
   "outputs": [],
   "execution_count": null
  },
  {
   "cell_type": "markdown",
   "id": "38b9491d",
   "metadata": {},
   "source": [
    "- We count the images of each category in each folder and plot the distribution.  \n",
    "- We see that there are **minor deviations** the number of samples of each category in the train dataset and a bit **more in the validation dataset**. "
   ]
  },
  {
   "cell_type": "markdown",
   "id": "dfc2bfc04e619b7d",
   "metadata": {},
   "source": [
    "---\n",
    "#### Create Datasets"
   ]
  },
  {
   "cell_type": "code",
   "id": "d699b2929af3e6b1",
   "metadata": {},
   "source": [
    "IMG_SIZE = 32\n",
    "BATCH_SIZE = 64\n",
    "NUM_CLASSES = len(train_counts)\n",
    "\n",
    "train_datasets = [image_dataset_from_directory(directory, image_size=(IMG_SIZE, IMG_SIZE), batch_size=BATCH_SIZE) for directory in train_dirs]\n",
    "\n",
    "train_dataset = train_datasets[0]\n",
    "for dataset in train_datasets[1:]:\n",
    "    train_dataset = train_dataset.concatenate(dataset)\n",
    "\n",
    "train_dataset = train_dataset.shuffle(buffer_size=1000).prefetch(buffer_size=tf.data.AUTOTUNE)\n",
    "validation_dataset = image_dataset_from_directory(validation_dir, image_size=(IMG_SIZE, IMG_SIZE), batch_size=BATCH_SIZE).prefetch(buffer_size=tf.data.AUTOTUNE)\n",
    "test_dataset = image_dataset_from_directory(test_dir, image_size=(IMG_SIZE, IMG_SIZE), batch_size=BATCH_SIZE).prefetch(buffer_size=tf.data.AUTOTUNE)\n",
    "\n",
    "class_names = train_datasets[0].class_names"
   ],
   "outputs": [],
   "execution_count": null
  },
  {
   "cell_type": "markdown",
   "id": "3e9a6a77",
   "metadata": {},
   "source": [
    "- We define the image size of 32 x 32 x 3 and batch size of 64 and create an array with the label's names.  \n",
    "- We create the train dataset by concatenating them, we **shuffle** the samples before each epoch and **prefetch** them to memory.  \n",
    "- We do the same for the validation and test dataset except shuffling which is unnecessary."
   ]
  },
  {
   "cell_type": "markdown",
   "id": "e6943c727cdce170",
   "metadata": {},
   "source": [
    "---\n",
    "#### Dataset Analysis"
   ]
  },
  {
   "cell_type": "code",
   "id": "f329098415b82fe3",
   "metadata": {},
   "source": [
    "for data_batch, labels_batch in train_dataset.take(1):\n",
    "    print('data batch shape:', data_batch.shape)\n",
    "    print('labels batch shape:', labels_batch.shape)"
   ],
   "outputs": [],
   "execution_count": null
  },
  {
   "cell_type": "markdown",
   "id": "25c99651",
   "metadata": {},
   "source": [
    "- We have batches of 64 images, 32 by 32 pixels with 3 channels (RGB).  \n",
    "- We also have batches of 64 labels, one for each image.  "
   ]
  },
  {
   "metadata": {},
   "cell_type": "markdown",
   "source": [
    "---\n",
    "#### Data Augmentation"
   ],
   "id": "be19cd234f606cd8"
  },
  {
   "metadata": {},
   "cell_type": "code",
   "source": [
    "data_augmentation = keras.Sequential(\n",
    "    [\n",
    "        # keras.layers.RandomCrop(height=32, width=32), # This layer is commented out because it is not compatible with the current model architecture.\n",
    "        keras.layers.RandomFlip(\"horizontal\"),\n",
    "        # keras.layers.RandomTranslation(0.1, 0.1), # This layer is commented out because it didn't improve the model performance.\n",
    "        # keras.layers.RandomRotation(0.1), # This layer is commented out because it didn't improve the model performance.\n",
    "        # keras.layers.RandomZoom(0.1), # This layer is commented out because it didn't improve the model performance.\n",
    "        keras.layers.RandomContrast(0.1),\n",
    "        keras.layers.RandomBrightness(0.1),\n",
    "    ]\n",
    ")"
   ],
   "id": "f8f26238e59fa1bb",
   "outputs": [],
   "execution_count": null
  },
  {
   "metadata": {},
   "cell_type": "markdown",
   "source": [
    "- We define a data augmentation pipeline to apply to the images.  \n",
    "- **The pipeline:**  \n",
    "    - Applies horizontal flipping to a random 50% of the images that go through it.\n",
    "    - Randomly adjusts the contrast of the input images by -+ 10%.  \n",
    "    - Randomly adjusts the brightness of the input images by -+ 10%.  "
   ],
   "id": "957d33adf6ff07d4"
  },
  {
   "metadata": {},
   "cell_type": "markdown",
   "source": [
    "- **The following techniques were tested but the model didn't perform well:**\n",
    "    - RandomCrop: Randomly crops the images along the width and height by 10%.\n",
    "    - Randomly translates the input images along the width and height by 10%.  \n",
    "    - Randomly rotates the input images by 10%.\n",
    "    - Randomly zooms the input images by 10%. \n",
    "- **We also didn't find any custom augmentation techniques that improved the model performance**."
   ],
   "id": "8bddb20ebd6732cd"
  },
  {
   "cell_type": "markdown",
   "id": "2822a632e4b1d743",
   "metadata": {},
   "source": [
    "---\n",
    "#### Augmented Dataset Visualization"
   ]
  },
  {
   "cell_type": "code",
   "id": "5a110bdf58d174b4",
   "metadata": {},
   "source": [
    "for images, labels in train_dataset.take(1):\n",
    "    plt.figure(figsize=(32, 32))\n",
    "    for i in range(len(images)):\n",
    "        augmented_images = data_augmentation(images)\n",
    "        ax = plt.subplot(8, 8, i + 1)\n",
    "        plt.imshow(augmented_images[i].numpy().astype(\"uint8\"))\n",
    "        plt.title(class_names[labels[i].numpy()])\n",
    "        plt.axis(\"off\")\n",
    "        plt.tight_layout()\n",
    "    plt.show()"
   ],
   "outputs": [],
   "execution_count": null
  },
  {
   "cell_type": "markdown",
   "id": "81fb7600",
   "metadata": {},
   "source": [
    "- We print a random batch of augmented images from the train dataset along with their respective labels.  \n",
    "- We see that the images are of **different categories** and are of **low resolution**, but we have **slightly more variety** in the images."
   ]
  },
  {
   "cell_type": "markdown",
   "id": "e1295d3f549e2bcc",
   "metadata": {},
   "source": [
    "---\n",
    "#### Model Architecture"
   ]
  },
  {
   "cell_type": "code",
   "id": "83b92ce40cddb3b1",
   "metadata": {},
   "source": [
    "inputs = keras.Input(shape=(IMG_SIZE, IMG_SIZE, 3))\n",
    "x = data_augmentation(inputs)\n",
    "x = layers.Rescaling(1./255)(x)\n",
    "x = layers.Conv2D(filters=32, kernel_size=3, kernel_regularizer=regularizers.L1L2(0.00001, 0.0001), activation=\"relu\")(x)\n",
    "x = layers.BatchNormalization()(x)\n",
    "x = layers.Conv2D(filters=64, kernel_size=3, kernel_regularizer=regularizers.L1L2(0.00001, 0.0001), activation=\"relu\")(x)\n",
    "x = layers.BatchNormalization()(x)\n",
    "x = layers.MaxPooling2D(pool_size=2)(x)\n",
    "x = layers.Conv2D(filters=128, kernel_size=3, kernel_regularizer=regularizers.L1L2(0.00001, 0.0001), activation=\"relu\")(x)\n",
    "x = layers.BatchNormalization()(x)\n",
    "x = layers.Conv2D(filters=256, kernel_size=3, kernel_regularizer=regularizers.L1L2(0.00001, 0.0001), activation=\"relu\")(x)\n",
    "x = layers.BatchNormalization()(x)\n",
    "x = layers.MaxPooling2D(pool_size=2)(x)\n",
    "x = layers.Flatten()(x)\n",
    "x = layers.Dropout(0.5)(x)\n",
    "x = layers.Dense(512, activation=\"relu\", kernel_regularizer=regularizers.L1L2(0.0001, 0.001))(x)\n",
    "outputs = layers.Dense(NUM_CLASSES, activation=\"softmax\", kernel_regularizer=regularizers.L1L2(0.0001, 0.001))(x)\n",
    "model = models.Model(inputs=inputs, outputs=outputs)\n",
    "model.summary()"
   ],
   "outputs": [],
   "execution_count": null
  },
  {
   "cell_type": "markdown",
   "id": "b45830ef",
   "metadata": {},
   "source": [
    " - We decided to increase the model architecture complexity compared to the previous one to try to get better results with the data augmentation.\n",
    "- Input size of 32 x 32 x 3 (RGB).  \n",
    "- Data augmentation (Horizontal Flip, Contrast (+-10%), Brightness (+-10%)).  \n",
    "- Normalize each pixel value in the [0, 1] interval.   \n",
    "- Two convolutional layers (32 and 64 kernels each respectively).  \n",
    "- Max pooling with size 2 after the second convolution results in a 14 x 14 x 64 tensor.\n",
    "- Two convolutional layers (128 and 256 kernels each).  \n",
    "- Max pooling with size 2 after the fourth convolution results in a 5 x 5 x 256 tensor.  \n",
    "- 3 x 3 convolutional kernel size.  \n",
    "- Batch Normalization after each convolutional layer to help stabilize and accelerate learning process.  \n",
    "- L1 regularization 0.00001 and L2 regularization 0.0001 on the convolutional layers. \n",
    "- Flatten the tensor to a 6400 x 1 tensor.  \n",
    "- A 512 and 10 dense output layer.  \n",
    "- L1 regularization 0.0001 and L2 regularization 0.001 on the 512 and 10 dense layer.\n",
    "- Dropout of 0.5 on the 512 dense layer.  \n",
    "- ReLU activation function on the convolutional and dense layers.  \n",
    "- Softmax activation function on the output layer.  \n",
    "- 10 output neurons, one for each category.  "
   ]
  },
  {
   "cell_type": "markdown",
   "id": "b91ca83987f82a9c",
   "metadata": {},
   "source": [
    "---\n",
    "#### Model Compilation"
   ]
  },
  {
   "cell_type": "code",
   "id": "6a604147d46665f1",
   "metadata": {},
   "source": [
    "initial_learning_rate = 0.001\n",
    "optimizer = optimizers.Adam(learning_rate=initial_learning_rate)\n",
    "loss_function = keras.losses.SparseCategoricalCrossentropy()\n",
    "\n",
    "lr_scheduler = callbacks.ReduceLROnPlateau(monitor='val_loss', factor=0.1, patience=3, verbose=1)\n",
    "early_stopping = callbacks.EarlyStopping(monitor='val_loss', patience=6, restore_best_weights=True, verbose=1)\n",
    "save_best_model = callbacks.ModelCheckpoint(filepath='../models/02_model_s_data_augm_adam.h5', save_best_only=True, monitor='val_loss', verbose=1)\n",
    "\n",
    "callbacks = [lr_scheduler, early_stopping, save_best_model]\n",
    "\n",
    "model.compile(optimizer=optimizer,\n",
    "              loss=loss_function,\n",
    "              metrics=['accuracy'])"
   ],
   "outputs": [],
   "execution_count": null
  },
  {
   "cell_type": "markdown",
   "id": "019339ae",
   "metadata": {},
   "source": [
    "- Adam as the optimizer for this model with an initial learning rate of 0.001.  \n",
    "- Sparse categorical cross entropy as the loss function.  \n",
    "- Learning rate scheduler to lower the learning rate by 0.1 on validation loss plateau (patience of 3).  \n",
    "- Early train stopping based on validation loss improvement (stops when validation loss doesn't improve for 6 straight epochs (patience of 6)).  \n",
    "- Checkpoints to save the best model between each epoch based on validation loss. "
   ]
  },
  {
   "cell_type": "markdown",
   "id": "1561b6b62a6a19e8",
   "metadata": {},
   "source": [
    "---\n",
    "#### Model Training\n",
    "- Training the model during 40 epochs.  "
   ]
  },
  {
   "cell_type": "code",
   "id": "7c7803fd68bb2466",
   "metadata": {},
   "source": [
    "history = model.fit(train_dataset,\n",
    "                    validation_data=validation_dataset,\n",
    "                    epochs=40,\n",
    "                    callbacks=callbacks)"
   ],
   "outputs": [],
   "execution_count": null
  },
  {
   "cell_type": "markdown",
   "id": "85d8e1568d50c001",
   "metadata": {},
   "source": [
    "---\n",
    "#### Save Model History"
   ]
  },
  {
   "cell_type": "code",
   "id": "415ebc4991342988",
   "metadata": {},
   "source": [
    "with open(\"../history/02_model_s_data_augm_adam.pkl\", \"wb\") as file:\n",
    "    pickle.dump(history.history, file)"
   ],
   "outputs": [],
   "execution_count": null
  },
  {
   "cell_type": "markdown",
   "id": "6c9a3be5bef27854",
   "metadata": {},
   "source": [
    "---\n",
    "#### Model Evaluation"
   ]
  },
  {
   "cell_type": "code",
   "id": "c57eaf5c0f9e6010",
   "metadata": {},
   "source": [
    "val_loss, val_acc = model.evaluate(validation_dataset)\n",
    "print(f'Model Validation Loss: {val_loss:.2%}')\n",
    "print(f'Model Validation Accuracy: {val_acc:.2%}')"
   ],
   "outputs": [],
   "execution_count": null
  },
  {
   "cell_type": "markdown",
   "id": "3e06235a110145b5",
   "metadata": {},
   "source": [
    "---\n",
    "#### Model Training Visualization"
   ]
  },
  {
   "cell_type": "code",
   "id": "b82798d66c269136",
   "metadata": {},
   "source": [
    "acc = history.history['accuracy']\n",
    "val_acc = history.history['val_accuracy']\n",
    "loss = history.history['loss']\n",
    "val_loss = history.history['val_loss']\n",
    "epochs = range(1, len(acc) + 1)\n",
    "\n",
    "plt.figure(figsize=(12, 6))\n",
    "plt.subplot(1, 2, 1)\n",
    "plt.plot(epochs, acc, 'bo', label='Training acc')\n",
    "plt.plot(epochs, val_acc, 'b', label='Validation acc')\n",
    "plt.title('Training and validation accuracy')\n",
    "plt.legend()\n",
    "\n",
    "plt.subplot(1, 2, 2)\n",
    "plt.plot(epochs, loss, 'bo', label='Training loss')\n",
    "plt.plot(epochs, val_loss, 'b', label='Validation loss')\n",
    "plt.title('Training and validation loss')\n",
    "plt.legend()\n",
    "\n",
    "plt.tight_layout()\n",
    "plt.show()"
   ],
   "outputs": [],
   "execution_count": null
  },
  {
   "metadata": {},
   "cell_type": "markdown",
   "source": [
    "- We see that the model begins overfitting after xx epochs.  \n",
    "- The validation accuracy stops improving significantly after the xxth epoch while the training accuracy keeps improving.  \n",
    "- The validation loss stops improving significantly after the xxth epoch while the training loss keeps improving. \n",
    "- The validation loss improves slightly when the learning rate changes to 0.00001 on the xxth epoch\n",
    "- However, the best model is saved on the xxth epoch.  "
   ],
   "id": "c16a851b80b27662"
  },
  {
   "cell_type": "markdown",
   "id": "d2409d0121f3719",
   "metadata": {},
   "source": [
    "---\n",
    "#### Model Testing"
   ]
  },
  {
   "cell_type": "code",
   "id": "85b3f7b2aa7331fb",
   "metadata": {},
   "source": [
    "test_labels = []\n",
    "test_predictions = []\n",
    "test_probabilities = []\n",
    "\n",
    "for images, labels in test_dataset:\n",
    "    test_labels.extend(labels.numpy())\n",
    "    predictions = model.predict(images)\n",
    "    test_predictions.extend(np.argmax(predictions, axis=-1))\n",
    "    test_probabilities.extend(predictions)\n",
    "\n",
    "test_labels = np.array(test_labels)\n",
    "test_predictions = np.array(test_predictions)\n",
    "test_probabilities = np.array(test_probabilities)"
   ],
   "outputs": [],
   "execution_count": null
  },
  {
   "cell_type": "markdown",
   "id": "fca30daa6d2c5258",
   "metadata": {},
   "source": [
    "---\n",
    "#### Confusion Matrix"
   ]
  },
  {
   "cell_type": "code",
   "id": "4be6a931c81836a8",
   "metadata": {},
   "source": [
    "cm = confusion_matrix(test_labels, test_predictions)\n",
    "disp = ConfusionMatrixDisplay(confusion_matrix=cm, display_labels=class_names)\n",
    "disp.plot(cmap=plt.cm.Blues, xticks_rotation=90)\n",
    "plt.show()"
   ],
   "outputs": [],
   "execution_count": null
  },
  {
   "metadata": {},
   "cell_type": "markdown",
   "source": [
    "- Looking at the confusion matrix, we see that the model has some trouble distinguishing between some categories.  \n",
    "- The model has a hard time distinguishing between the categories 003_cat and 005_dog.  \n",
    "- The model also has a hard time distinguishing between some other categories but the error is not as significant.  \n",
    "- The model has an acceptable performance on the categories 001_automobile, 006_frog, 008_ship and 009_truck."
   ],
   "id": "d8205b94155b52c1"
  },
  {
   "metadata": {},
   "cell_type": "markdown",
   "source": [
    "---\n",
    "#### ROC Curve Analysis"
   ],
   "id": "2fbe55ca97e943ca"
  },
  {
   "metadata": {},
   "cell_type": "code",
   "source": [
    "test_labels_bin = label_binarize(test_labels, classes=range(NUM_CLASSES))\n",
    "\n",
    "fpr = dict()\n",
    "tpr = dict()\n",
    "roc_auc = dict()\n",
    "\n",
    "for i in range(NUM_CLASSES):\n",
    "    fpr[i], tpr[i], _ = roc_curve(test_labels_bin[:, i], test_probabilities[:, i])\n",
    "    roc_auc[i] = auc(fpr[i], tpr[i])\n",
    "\n",
    "plt.figure(figsize=(10, 8))\n",
    "colors = cycle(['aqua', 'darkorange', 'cornflowerblue', 'blue', 'green', 'red', 'purple', 'brown', 'pink', 'grey'])\n",
    "for i, color in zip(range(NUM_CLASSES), colors):\n",
    "    plt.plot(fpr[i], tpr[i], color=color, lw=2, label=f'Class {class_names[i]} (AUC = {roc_auc[i]:.2f})')\n",
    "\n",
    "plt.plot([0, 1], [0, 1], 'k--', lw=2)\n",
    "plt.xlim([0.0, 1.0])\n",
    "plt.ylim([0.0, 1.05])\n",
    "plt.xlabel('False Positive Rate')\n",
    "plt.ylabel('True Positive Rate')\n",
    "plt.title('Receiver Operating Characteristic (ROC) Curve')\n",
    "plt.legend(loc=\"lower right\")\n",
    "plt.show()"
   ],
   "id": "8e23889463f54956",
   "outputs": [],
   "execution_count": null
  },
  {
   "metadata": {},
   "cell_type": "markdown",
   "source": [
    "- We see that the model has a good performance on the ROC curve for most categories.  \n",
    "- The categories 003_cat, 003_bird, 005_dog and 004_deer have the worst AUC (Area Under Curve) performance.\n",
    "- A perfect AUC of 1.0 would mean that the model classifies all true positives and true negatives correctly."
   ],
   "id": "62a219cf2239ad40"
  },
  {
   "cell_type": "markdown",
   "id": "e8c8ee6e74938bdc",
   "metadata": {},
   "source": [
    "---\n",
    "#### Performance Metrics\n",
    "- **Accuracy** is the proportion of correctly predicted instances out of the total instances.  \n",
    "- **Precision** is the ratio of true positive predictions to the total predicted positives. Macro precision calculates this for each class independently and then averages them.  \n",
    "- **Weighted precision** calculates the precision for each class, then averages them, weighted by the number of true instances for each class.  \n",
    "- **Recall** is the ratio of true positive predictions to the total actual positives. Macro recall calculates this for each class independently and then averages them.  \n",
    "- **Weighted recall** calculates the recall for each class, then averages them, weighted by the number of true instances for each class.  \n",
    "- The **F1-score** is the harmonic mean of precision and recall. Macro F1-score calculates this for each class independently and then averages them.  \n",
    "- **Weighted F1-score** calculates the F1-score for each class, then averages them, weighted by the number of true instances for each class."
   ]
  },
  {
   "cell_type": "code",
   "id": "479b290df6a7c03b",
   "metadata": {},
   "source": [
    "acc = accuracy_score(y_true =  test_labels, y_pred = test_predictions)\n",
    "print(f'Accuracy : {np.round(acc*100,2)}%')\n",
    "precision = precision_score(y_true =  test_labels, y_pred = test_predictions, average='macro')\n",
    "print(f'Precision - Macro: {np.round(precision*100,2)}%')\n",
    "recall = recall_score(y_true =  test_labels, y_pred = test_predictions, average='macro')\n",
    "print(f'Recall - Macro: {np.round(recall*100,2)}%')\n",
    "f1 = f1_score(y_true =  test_labels, y_pred = test_predictions, average='macro')\n",
    "print(f'F1-score - Macro: {np.round(f1*100,2)}%')\n",
    "precision = precision_score(y_true =  test_labels, y_pred = test_predictions, average='weighted')\n",
    "print(f'Precision - Weighted: {np.round(precision*100,2)}%')\n",
    "recall = recall_score(y_true =  test_labels, y_pred = test_predictions, average='weighted')\n",
    "print(f'Recall - Weighted: {np.round(recall*100,2)}%')\n",
    "f1 = f1_score(y_true =  test_labels, y_pred = test_predictions, average='weighted')\n",
    "print(f'F1-score - Weighted: {np.round(f1*100,2)}%')"
   ],
   "outputs": [],
   "execution_count": null
  },
  {
   "metadata": {},
   "cell_type": "markdown",
   "source": "- **Since the dataset is balanced, the **MACRO** average is a good metric to evaluate the model.**",
   "id": "74829a0804091526"
  },
  {
   "metadata": {},
   "cell_type": "markdown",
   "source": [
    "# Conclusion\n",
    "- We have trained a model with data augmentation (Horizontal Flip, Contrast and Brightness), using the Sparse Categorical Cross-Entropy loss function and the Adam optimizer.  \n",
    "- We experimented with various architectures, but decided to try a more complex architecture in this notebook.  \n",
    "    - Different learning rates were tested; we settled for the Reduce Learning Rate on Plateau callback.  \n",
    "    - Various batch sizes were explored; this size was optimal for this architecture.  \n",
    "    - Multiple optimizers were evaluated; Adam was the chosen.\n",
    "    - Several regularization values were tried; these values worked best.\n",
    "    - Different dropout rates were assessed; this rate provided the best results.\n",
    "    - Various epoch counts were tested; 40 epochs were optimal.\n",
    "    - Different kernel sizes were considered; this size was most effective.\n",
    "    - Various numbers of kernels were tested; this configuration was best.\n",
    "    - Different numbers of layers were evaluated; this architecture was the chosen.\n",
    "- We opted to add Batch Normalization after each convolutional layer.\n",
    "- We used L1 and L2 regularization on both convolutional and dense layers.\n",
    "- Dropout was applied to the dense layers.\n",
    "- The model showed some difficulty distinguishing between certain categories, particularly cats and dogs.\n",
    "- Overfitting was observed after xx epochs, but the best model was saved at the xxth epoch.\n",
    "- We evaluated the model using a confusion matrix to analyze its performance on each category.\n",
    "- We evaluated the model using ROC curves for a deeper performance analysis.\n",
    "- The model achieved an accuracy of xx% on the test set.\n",
    "- Performance on the test set was good, with:\n",
    "    - Macro F1-score: xx%\n",
    "    - Weighted F1-score: xx%\n",
    "    - Macro precision: xx%\n",
    "    - Weighted precision: xx%\n",
    "    - Macro recall: xx%\n",
    "    - Weighted recall: xx%\n",
    "\n",
    "### Future Work\n",
    "- In the next phase, we will:\n",
    "    - For the next notebook, we will try feature extraction with a pre-trained model.\n",
    "    - Experiment with different architectures for the classifier.\n",
    "    - Compile the full model and test it."
   ],
   "id": "823b5d8066835fa6"
  }
 ],
 "metadata": {
  "kernelspec": {
   "display_name": "Python 3",
   "language": "python",
   "name": "python3"
  },
  "language_info": {
   "codemirror_mode": {
    "name": "ipython",
    "version": 2
   },
   "file_extension": ".py",
   "mimetype": "text/x-python",
   "name": "python",
   "nbconvert_exporter": "python",
   "pygments_lexer": "ipython2",
   "version": "2.7.6"
  }
 },
 "nbformat": 4,
 "nbformat_minor": 5
}
