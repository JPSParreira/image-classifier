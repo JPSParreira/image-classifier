{
 "cells": [
  {
   "metadata": {},
   "cell_type": "markdown",
   "source": [
    "---\n",
    "# Dataset Analysis"
   ],
   "id": "3a5cfcf3108e69cd"
  },
  {
   "metadata": {},
   "cell_type": "markdown",
   "source": [
    "Joao Parreira - 2221985\n",
    "Pedro Barbeiro - 2221986\n",
    "- ((2221985 + 2221986) % 5) + 1 = 2  \n",
    "- **Validation set: train2**. "
   ],
   "id": "f0bfee481ab446ee"
  },
  {
   "metadata": {
    "jupyter": {
     "is_executing": true
    }
   },
   "cell_type": "code",
   "source": [
    "import os\n",
    "import matplotlib.pyplot as plt\n",
    "\n",
    "train_dirs = ['../data/train1', '../data/train3', '../data/train4', '../data/train5']\n",
    "validation_dir = '../data/train2'\n",
    "test_dir = '../data/test'\n",
    "\n",
    "def count_images_in_categories(directory):\n",
    "    categories = os.listdir(directory)\n",
    "    category_counts = {}\n",
    "    for category in categories:\n",
    "        category_counts[category] = len(os.listdir(os.path.join(directory, category)))\n",
    "    return category_counts\n",
    "\n",
    "train_counts_each_dir = [count_images_in_categories(train_dir) for train_dir in train_dirs]\n",
    "validation_counts = count_images_in_categories(validation_dir)\n",
    "test_counts = count_images_in_categories(test_dir)\n",
    "train_counts = {category: sum([count.get(category, 0) for count in train_counts_each_dir]) for category in train_counts_each_dir[0]}\n",
    "\n",
    "def plot_statistics(dataset_name, category_counts, color):\n",
    "    categories = list(category_counts.keys())\n",
    "    counts = list(category_counts.values())\n",
    "    num_categories = len(categories)\n",
    "    plt.figure(figsize=(8, 6))\n",
    "    bars = plt.barh(range(num_categories), counts, color=color, alpha=1)\n",
    "\n",
    "    for bar, count in zip(bars, counts):\n",
    "        plt.text(bar.get_width() - 5, bar.get_y() + bar.get_height()/2, str(count), va='center', ha='right', color='white', fontweight='bold')\n",
    "\n",
    "    plt.ylabel('Categories')\n",
    "    plt.xlabel('Number of Images')\n",
    "    plt.yticks(range(num_categories), categories)\n",
    "    plt.title(f'Distribution of Images in {dataset_name} Dataset')\n",
    "    plt.tight_layout()\n",
    "    plt.show()\n",
    "\n",
    "plot_statistics('Training Set', train_counts, 'blue')\n",
    "plot_statistics('Validation Set', validation_counts, 'purple')\n",
    "plot_statistics('Test Set', test_counts, 'red')"
   ],
   "id": "683502b6c8f84887",
   "outputs": [],
   "execution_count": null
  }
 ],
 "metadata": {
  "kernelspec": {
   "display_name": "Python 3",
   "language": "python",
   "name": "python3"
  },
  "language_info": {
   "codemirror_mode": {
    "name": "ipython",
    "version": 2
   },
   "file_extension": ".py",
   "mimetype": "text/x-python",
   "name": "python",
   "nbconvert_exporter": "python",
   "pygments_lexer": "ipython2",
   "version": "2.7.6"
  }
 },
 "nbformat": 4,
 "nbformat_minor": 5
}
