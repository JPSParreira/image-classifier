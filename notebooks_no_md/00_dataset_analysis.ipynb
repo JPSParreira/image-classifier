{
 "cells": [
  {
   "cell_type": "code",
   "id": "676965466de52b6f",
   "metadata": {},
   "source": [
    "import os\n",
    "import numpy as np\n",
    "import matplotlib.pyplot as plt\n",
    "from PIL import Image\n",
    "\n",
    "train_dirs = ['../data/train1', '../data/train3', '../data/train4', '../data/train5']\n",
    "validation_dir = '../data/train2'\n",
    "test_dir = '../data/test'\n",
    "\n",
    "def count_images_in_categories(directory):\n",
    "    categories = os.listdir(directory)\n",
    "    category_counts = {}\n",
    "    total_count = 0\n",
    "    for category in categories:\n",
    "        count = len(os.listdir(os.path.join(directory, category)))\n",
    "        category_counts[category] = count\n",
    "        total_count += count\n",
    "    return category_counts, total_count\n",
    "\n",
    "def calculate_standard_deviation(counts):\n",
    "    return np.std(list(counts.values()))\n",
    "\n",
    "train_counts_each_dir = [count_images_in_categories(train_dir)[0] for train_dir in train_dirs]\n",
    "validation_counts, validation_total_count = count_images_in_categories(validation_dir)\n",
    "test_counts, test_total_count = count_images_in_categories(test_dir)\n",
    "\n",
    "train_counts = {category: sum([count.get(category, 0) for count in train_counts_each_dir]) for category in train_counts_each_dir[0]}\n",
    "train_total_count = sum([sum(count.values()) for count in train_counts_each_dir])\n",
    "\n",
    "train_std_dev = calculate_standard_deviation(train_counts)\n",
    "validation_std_dev = calculate_standard_deviation(validation_counts)\n",
    "test_std_dev = calculate_standard_deviation(test_counts)\n",
    "\n",
    "def display_sample_images(directory, num_images=2):\n",
    "    categories = os.listdir(directory)\n",
    "    fig, axes = plt.subplots(num_images, len(categories), figsize=(len(categories) * 2, num_images * 2))\n",
    "\n",
    "    for j, category in enumerate(categories):\n",
    "        image_files = os.listdir(os.path.join(directory, category))[:num_images]\n",
    "        for i, image_file in enumerate(image_files):\n",
    "            img_path = os.path.join(directory, category, image_file)\n",
    "            img = Image.open(img_path).resize((32, 32))\n",
    "            axes[i, j].imshow(img)\n",
    "            axes[i, j].axis('off')\n",
    "            if i == 0:\n",
    "                axes[i, j].set_title(category, fontsize=8)\n",
    "\n",
    "    plt.tight_layout()\n",
    "    plt.show()\n",
    "\n",
    "def plot_statistics(dataset_name, category_counts, total_count, std_dev, bar_color, pie_colors):\n",
    "    categories = list(category_counts.keys())\n",
    "    counts = list(category_counts.values())\n",
    "    num_categories = len(categories)\n",
    "\n",
    "    fig, axes = plt.subplots(1, 2, figsize=(24, 6))\n",
    "\n",
    "    # Bar chart\n",
    "    bars = axes[0].barh(range(num_categories), counts, color=bar_color, alpha=1)\n",
    "    for bar, count in zip(bars, counts):\n",
    "        axes[0].text(bar.get_width() - 5, bar.get_y() + bar.get_height()/2, str(count), va='center', ha='right', color='white', fontweight='bold')\n",
    "    axes[0].set_ylabel('Categories')\n",
    "    axes[0].set_xlabel('Number of Images')\n",
    "    axes[0].set_yticks(range(num_categories))\n",
    "    axes[0].set_yticklabels(categories)\n",
    "    axes[0].set_title(f'Distribution of Images in {dataset_name} Dataset\\n(Total: {total_count}, Std Dev: {std_dev:.2f})')\n",
    "\n",
    "    # Pie chart\n",
    "    axes[1].pie(counts, labels=categories, colors=pie_colors, autopct='%1.1f%%', startangle=140)\n",
    "    axes[1].axis('equal')\n",
    "    axes[1].set_title(f'Category Distribution in {dataset_name} Dataset\\n(Total: {total_count}, Std Dev: {std_dev:.2f})')\n",
    "\n",
    "    plt.tight_layout()\n",
    "    plt.show()"
   ],
   "outputs": [],
   "execution_count": null
  },
  {
   "cell_type": "code",
   "id": "92c92c5dd90d8a53",
   "metadata": {},
   "source": [
    "plot_statistics('Train', train_counts, train_total_count, train_std_dev, 'skyblue', plt.cm.Paired.colors)\n",
    "display_sample_images(train_dirs[0])"
   ],
   "outputs": [],
   "execution_count": null
  },
  {
   "cell_type": "code",
   "id": "82b9105a54133002",
   "metadata": {},
   "source": [
    "plot_statistics('Validation', validation_counts, validation_total_count, validation_std_dev, 'lightgreen', plt.cm.Paired.colors)\n",
    "display_sample_images(validation_dir)"
   ],
   "outputs": [],
   "execution_count": null
  },
  {
   "cell_type": "code",
   "id": "b323dc9987327955",
   "metadata": {},
   "source": [
    "plot_statistics('Test', test_counts, test_total_count, test_std_dev, 'salmon', plt.cm.Paired.colors)\n",
    "display_sample_images(test_dir)"
   ],
   "outputs": [],
   "execution_count": null
  }
 ],
 "metadata": {
  "kernelspec": {
   "display_name": "Python 3",
   "language": "python",
   "name": "python3"
  },
  "language_info": {
   "codemirror_mode": {
    "name": "ipython",
    "version": 2
   },
   "file_extension": ".py",
   "mimetype": "text/x-python",
   "name": "python",
   "nbconvert_exporter": "python",
   "pygments_lexer": "ipython2",
   "version": "2.7.6"
  }
 },
 "nbformat": 4,
 "nbformat_minor": 5
}
